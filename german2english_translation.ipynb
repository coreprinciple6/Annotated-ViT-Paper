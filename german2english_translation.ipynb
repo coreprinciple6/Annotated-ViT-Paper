{
 "cells": [
  {
   "cell_type": "markdown",
   "metadata": {},
   "source": [
    "# Implementation of German to English Translation Task from Attention is all you need paper"
   ]
  },
  {
   "cell_type": "code",
   "execution_count": 1,
   "metadata": {},
   "outputs": [],
   "source": [
    "# !pip install torch torchtext spacy\n",
    "# !python -m spacy download de_core_news_sm\n",
    "# !python -m spacy download en_core_web_sm"
   ]
  },
  {
   "cell_type": "code",
   "execution_count": null,
   "metadata": {},
   "outputs": [
    {
     "name": "stderr",
     "output_type": "stream",
     "text": [
      "/var/folders/rv/fj66wyxd1tzgh8y6tktcmty40000gn/T/ipykernel_84426/4216180982.py:4: UserWarning: \n",
      "/!\\ IMPORTANT WARNING ABOUT TORCHTEXT STATUS /!\\ \n",
      "Torchtext is deprecated and the last released version will be 0.18 (this one). You can silence this warning by calling the following at the beginnign of your scripts: `import torchtext; torchtext.disable_torchtext_deprecation_warning()`\n",
      "  warnings.warn(torchtext._TORCHTEXT_DEPRECATION_MSG)\n"
     ]
    },
    {
     "name": "stdout",
     "output_type": "stream",
     "text": [
      "Building model\n",
      "Training model\n"
     ]
    },
    {
     "name": "stderr",
     "output_type": "stream",
     "text": [
      "  0%|          | 1/907 [00:00<11:46,  1.28it/s]"
     ]
    },
    {
     "name": "stdout",
     "output_type": "stream",
     "text": [
      "Batch 0, Loss: 7.8814\n"
     ]
    },
    {
     "name": "stderr",
     "output_type": "stream",
     "text": [
      " 11%|█         | 101/907 [01:05<07:39,  1.75it/s]"
     ]
    },
    {
     "name": "stdout",
     "output_type": "stream",
     "text": [
      "Batch 100, Loss: 2.8866\n"
     ]
    },
    {
     "name": "stderr",
     "output_type": "stream",
     "text": [
      " 22%|██▏       | 201/907 [02:09<06:47,  1.73it/s]"
     ]
    },
    {
     "name": "stdout",
     "output_type": "stream",
     "text": [
      "Batch 200, Loss: 2.2941\n"
     ]
    },
    {
     "name": "stderr",
     "output_type": "stream",
     "text": [
      " 33%|███▎      | 301/907 [03:07<05:26,  1.86it/s]"
     ]
    },
    {
     "name": "stdout",
     "output_type": "stream",
     "text": [
      "Batch 300, Loss: 1.9137\n"
     ]
    },
    {
     "name": "stderr",
     "output_type": "stream",
     "text": [
      " 44%|████▍     | 401/907 [04:13<04:46,  1.77it/s]"
     ]
    },
    {
     "name": "stdout",
     "output_type": "stream",
     "text": [
      "Batch 400, Loss: 1.6076\n"
     ]
    },
    {
     "name": "stderr",
     "output_type": "stream",
     "text": [
      " 55%|█████▌    | 501/907 [05:14<03:55,  1.73it/s]"
     ]
    },
    {
     "name": "stdout",
     "output_type": "stream",
     "text": [
      "Batch 500, Loss: 1.7115\n"
     ]
    },
    {
     "name": "stderr",
     "output_type": "stream",
     "text": [
      " 66%|██████▋   | 601/907 [06:18<03:15,  1.56it/s]"
     ]
    },
    {
     "name": "stdout",
     "output_type": "stream",
     "text": [
      "Batch 600, Loss: 1.8014\n"
     ]
    },
    {
     "name": "stderr",
     "output_type": "stream",
     "text": [
      " 77%|███████▋  | 701/907 [07:22<02:15,  1.52it/s]"
     ]
    },
    {
     "name": "stdout",
     "output_type": "stream",
     "text": [
      "Batch 700, Loss: 1.4891\n"
     ]
    },
    {
     "name": "stderr",
     "output_type": "stream",
     "text": [
      " 88%|████████▊ | 801/907 [08:20<00:57,  1.84it/s]"
     ]
    },
    {
     "name": "stdout",
     "output_type": "stream",
     "text": [
      "Batch 800, Loss: 1.5054\n"
     ]
    },
    {
     "name": "stderr",
     "output_type": "stream",
     "text": [
      " 99%|█████████▉| 901/907 [09:20<00:03,  1.67it/s]"
     ]
    },
    {
     "name": "stdout",
     "output_type": "stream",
     "text": [
      "Batch 900, Loss: 2.1690\n"
     ]
    },
    {
     "name": "stderr",
     "output_type": "stream",
     "text": [
      "100%|██████████| 907/907 [09:23<00:00,  1.61it/s]\n"
     ]
    },
    {
     "name": "stdout",
     "output_type": "stream",
     "text": [
      "Epoch: 1, Train Loss: 1.9606\n"
     ]
    },
    {
     "name": "stderr",
     "output_type": "stream",
     "text": [
      "Evaluation: 100%|██████████| 32/32 [00:05<00:00,  5.60it/s]\n"
     ]
    },
    {
     "name": "stdout",
     "output_type": "stream",
     "text": [
      "Validation Loss: 1.5174\n",
      "BLEU Score: 0.0931\n",
      "Best Validation Loss: 1.5174, Best BLEU Score: 0.0931\n",
      "\n"
     ]
    },
    {
     "name": "stderr",
     "output_type": "stream",
     "text": [
      "  0%|          | 1/907 [00:00<08:39,  1.74it/s]"
     ]
    },
    {
     "name": "stdout",
     "output_type": "stream",
     "text": [
      "Batch 0, Loss: 1.9306\n"
     ]
    },
    {
     "name": "stderr",
     "output_type": "stream",
     "text": [
      " 11%|█         | 101/907 [01:01<09:15,  1.45it/s]"
     ]
    },
    {
     "name": "stdout",
     "output_type": "stream",
     "text": [
      "Batch 100, Loss: 1.7882\n"
     ]
    },
    {
     "name": "stderr",
     "output_type": "stream",
     "text": [
      " 22%|██▏       | 201/907 [02:02<06:47,  1.73it/s]"
     ]
    },
    {
     "name": "stdout",
     "output_type": "stream",
     "text": [
      "Batch 200, Loss: 1.6603\n"
     ]
    },
    {
     "name": "stderr",
     "output_type": "stream",
     "text": [
      " 33%|███▎      | 301/907 [03:01<05:23,  1.87it/s]"
     ]
    },
    {
     "name": "stdout",
     "output_type": "stream",
     "text": [
      "Batch 300, Loss: 1.6368\n"
     ]
    },
    {
     "name": "stderr",
     "output_type": "stream",
     "text": [
      " 44%|████▍     | 401/907 [03:58<05:51,  1.44it/s]"
     ]
    },
    {
     "name": "stdout",
     "output_type": "stream",
     "text": [
      "Batch 400, Loss: 0.9690\n"
     ]
    },
    {
     "name": "stderr",
     "output_type": "stream",
     "text": [
      " 55%|█████▌    | 501/907 [04:55<03:48,  1.78it/s]"
     ]
    },
    {
     "name": "stdout",
     "output_type": "stream",
     "text": [
      "Batch 500, Loss: 1.3225\n"
     ]
    },
    {
     "name": "stderr",
     "output_type": "stream",
     "text": [
      " 66%|██████▋   | 601/907 [05:52<03:08,  1.62it/s]"
     ]
    },
    {
     "name": "stdout",
     "output_type": "stream",
     "text": [
      "Batch 600, Loss: 1.4841\n"
     ]
    },
    {
     "name": "stderr",
     "output_type": "stream",
     "text": [
      " 77%|███████▋  | 701/907 [17:50<5:36:20, 97.96s/it]  "
     ]
    },
    {
     "name": "stdout",
     "output_type": "stream",
     "text": [
      "Batch 700, Loss: 1.3736\n"
     ]
    },
    {
     "name": "stderr",
     "output_type": "stream",
     "text": [
      " 88%|████████▊ | 801/907 [18:53<01:00,  1.75it/s]  "
     ]
    },
    {
     "name": "stdout",
     "output_type": "stream",
     "text": [
      "Batch 800, Loss: 1.3700\n"
     ]
    },
    {
     "name": "stderr",
     "output_type": "stream",
     "text": [
      " 99%|█████████▉| 901/907 [19:53<00:03,  1.53it/s]"
     ]
    },
    {
     "name": "stdout",
     "output_type": "stream",
     "text": [
      "Batch 900, Loss: 1.6893\n"
     ]
    },
    {
     "name": "stderr",
     "output_type": "stream",
     "text": [
      "100%|██████████| 907/907 [19:56<00:00,  1.32s/it]\n"
     ]
    },
    {
     "name": "stdout",
     "output_type": "stream",
     "text": [
      "Epoch: 2, Train Loss: 1.5549\n"
     ]
    },
    {
     "name": "stderr",
     "output_type": "stream",
     "text": [
      "Evaluation: 100%|██████████| 32/32 [00:05<00:00,  5.65it/s]\n"
     ]
    },
    {
     "name": "stdout",
     "output_type": "stream",
     "text": [
      "Validation Loss: 1.5080\n",
      "BLEU Score: 0.0977\n",
      "Best Validation Loss: 1.5080, Best BLEU Score: 0.0977\n",
      "\n"
     ]
    },
    {
     "name": "stderr",
     "output_type": "stream",
     "text": [
      "  0%|          | 1/907 [00:00<14:42,  1.03it/s]"
     ]
    },
    {
     "name": "stdout",
     "output_type": "stream",
     "text": [
      "Batch 0, Loss: 1.2547\n"
     ]
    },
    {
     "name": "stderr",
     "output_type": "stream",
     "text": [
      " 11%|█         | 101/907 [01:03<08:12,  1.64it/s]"
     ]
    },
    {
     "name": "stdout",
     "output_type": "stream",
     "text": [
      "Batch 100, Loss: 1.4959\n"
     ]
    },
    {
     "name": "stderr",
     "output_type": "stream",
     "text": [
      " 22%|██▏       | 201/907 [02:07<07:16,  1.62it/s]"
     ]
    },
    {
     "name": "stdout",
     "output_type": "stream",
     "text": [
      "Batch 200, Loss: 1.5129\n"
     ]
    },
    {
     "name": "stderr",
     "output_type": "stream",
     "text": [
      " 33%|███▎      | 301/907 [03:12<05:55,  1.70it/s]"
     ]
    },
    {
     "name": "stdout",
     "output_type": "stream",
     "text": [
      "Batch 300, Loss: 1.6984\n"
     ]
    },
    {
     "name": "stderr",
     "output_type": "stream",
     "text": [
      " 44%|████▍     | 401/907 [04:12<04:52,  1.73it/s]"
     ]
    },
    {
     "name": "stdout",
     "output_type": "stream",
     "text": [
      "Batch 400, Loss: 1.4501\n"
     ]
    },
    {
     "name": "stderr",
     "output_type": "stream",
     "text": [
      " 55%|█████▌    | 501/907 [05:11<04:16,  1.58it/s]"
     ]
    },
    {
     "name": "stdout",
     "output_type": "stream",
     "text": [
      "Batch 500, Loss: 1.3150\n"
     ]
    },
    {
     "name": "stderr",
     "output_type": "stream",
     "text": [
      " 66%|██████▋   | 601/907 [06:10<02:51,  1.79it/s]"
     ]
    },
    {
     "name": "stdout",
     "output_type": "stream",
     "text": [
      "Batch 600, Loss: 1.3744\n"
     ]
    },
    {
     "name": "stderr",
     "output_type": "stream",
     "text": [
      " 77%|███████▋  | 701/907 [07:10<02:09,  1.59it/s]"
     ]
    },
    {
     "name": "stdout",
     "output_type": "stream",
     "text": [
      "Batch 700, Loss: 1.5563\n"
     ]
    },
    {
     "name": "stderr",
     "output_type": "stream",
     "text": [
      " 88%|████████▊ | 801/907 [08:09<01:07,  1.56it/s]"
     ]
    },
    {
     "name": "stdout",
     "output_type": "stream",
     "text": [
      "Batch 800, Loss: 1.7172\n"
     ]
    },
    {
     "name": "stderr",
     "output_type": "stream",
     "text": [
      " 99%|█████████▉| 901/907 [09:11<00:03,  1.82it/s]"
     ]
    },
    {
     "name": "stdout",
     "output_type": "stream",
     "text": [
      "Batch 900, Loss: 1.7579\n"
     ]
    },
    {
     "name": "stderr",
     "output_type": "stream",
     "text": [
      "100%|██████████| 907/907 [09:14<00:00,  1.63it/s]\n"
     ]
    },
    {
     "name": "stdout",
     "output_type": "stream",
     "text": [
      "Epoch: 3, Train Loss: 1.5479\n"
     ]
    },
    {
     "name": "stderr",
     "output_type": "stream",
     "text": [
      "Evaluation: 100%|██████████| 32/32 [00:05<00:00,  5.35it/s]\n"
     ]
    },
    {
     "name": "stdout",
     "output_type": "stream",
     "text": [
      "Validation Loss: 1.5013\n",
      "BLEU Score: 0.0977\n",
      "Best Validation Loss: 1.5013, Best BLEU Score: 0.0977\n",
      "\n"
     ]
    },
    {
     "name": "stderr",
     "output_type": "stream",
     "text": [
      "  0%|          | 1/907 [00:00<10:00,  1.51it/s]"
     ]
    },
    {
     "name": "stdout",
     "output_type": "stream",
     "text": [
      "Batch 0, Loss: 1.2286\n"
     ]
    },
    {
     "name": "stderr",
     "output_type": "stream",
     "text": [
      " 11%|█         | 101/907 [10:01<08:11,  1.64it/s]  "
     ]
    },
    {
     "name": "stdout",
     "output_type": "stream",
     "text": [
      "Batch 100, Loss: 1.6488\n"
     ]
    },
    {
     "name": "stderr",
     "output_type": "stream",
     "text": [
      " 22%|██▏       | 201/907 [11:10<09:05,  1.29it/s]"
     ]
    },
    {
     "name": "stdout",
     "output_type": "stream",
     "text": [
      "Batch 200, Loss: 1.1292\n"
     ]
    },
    {
     "name": "stderr",
     "output_type": "stream",
     "text": [
      " 33%|███▎      | 301/907 [12:08<05:20,  1.89it/s]"
     ]
    },
    {
     "name": "stdout",
     "output_type": "stream",
     "text": [
      "Batch 300, Loss: 1.8862\n"
     ]
    },
    {
     "name": "stderr",
     "output_type": "stream",
     "text": [
      " 44%|████▍     | 401/907 [13:11<05:22,  1.57it/s]"
     ]
    },
    {
     "name": "stdout",
     "output_type": "stream",
     "text": [
      "Batch 400, Loss: 1.3469\n"
     ]
    },
    {
     "name": "stderr",
     "output_type": "stream",
     "text": [
      " 55%|█████▌    | 501/907 [14:14<04:29,  1.50it/s]"
     ]
    },
    {
     "name": "stdout",
     "output_type": "stream",
     "text": [
      "Batch 500, Loss: 1.5848\n"
     ]
    },
    {
     "name": "stderr",
     "output_type": "stream",
     "text": [
      " 66%|██████▋   | 601/907 [18:51<04:17,  1.19it/s]  "
     ]
    },
    {
     "name": "stdout",
     "output_type": "stream",
     "text": [
      "Batch 600, Loss: 1.7509\n"
     ]
    },
    {
     "name": "stderr",
     "output_type": "stream",
     "text": [
      " 77%|███████▋  | 701/907 [19:59<02:05,  1.65it/s]"
     ]
    },
    {
     "name": "stdout",
     "output_type": "stream",
     "text": [
      "Batch 700, Loss: 1.5266\n"
     ]
    },
    {
     "name": "stderr",
     "output_type": "stream",
     "text": [
      " 88%|████████▊ | 801/907 [21:19<01:25,  1.24it/s]"
     ]
    },
    {
     "name": "stdout",
     "output_type": "stream",
     "text": [
      "Batch 800, Loss: 1.5065\n"
     ]
    },
    {
     "name": "stderr",
     "output_type": "stream",
     "text": [
      " 99%|█████████▉| 901/907 [22:44<00:03,  1.66it/s]"
     ]
    },
    {
     "name": "stdout",
     "output_type": "stream",
     "text": [
      "Batch 900, Loss: 1.6765\n"
     ]
    },
    {
     "name": "stderr",
     "output_type": "stream",
     "text": [
      "100%|██████████| 907/907 [22:48<00:00,  1.51s/it]\n"
     ]
    },
    {
     "name": "stdout",
     "output_type": "stream",
     "text": [
      "Epoch: 4, Train Loss: 1.5400\n"
     ]
    },
    {
     "name": "stderr",
     "output_type": "stream",
     "text": [
      "Evaluation: 100%|██████████| 32/32 [00:06<00:00,  5.06it/s]\n"
     ]
    },
    {
     "name": "stdout",
     "output_type": "stream",
     "text": [
      "Validation Loss: 1.4965\n",
      "BLEU Score: 0.0987\n",
      "Best Validation Loss: 1.4965, Best BLEU Score: 0.0987\n",
      "\n"
     ]
    },
    {
     "name": "stderr",
     "output_type": "stream",
     "text": [
      "  0%|          | 1/907 [00:00<09:40,  1.56it/s]"
     ]
    },
    {
     "name": "stdout",
     "output_type": "stream",
     "text": [
      "Batch 0, Loss: 1.9325\n"
     ]
    },
    {
     "name": "stderr",
     "output_type": "stream",
     "text": [
      " 11%|█         | 101/907 [01:13<10:07,  1.33it/s]"
     ]
    },
    {
     "name": "stdout",
     "output_type": "stream",
     "text": [
      "Batch 100, Loss: 1.5213\n"
     ]
    },
    {
     "name": "stderr",
     "output_type": "stream",
     "text": [
      " 22%|██▏       | 201/907 [02:33<10:33,  1.11it/s]"
     ]
    },
    {
     "name": "stdout",
     "output_type": "stream",
     "text": [
      "Batch 200, Loss: 1.6432\n"
     ]
    },
    {
     "name": "stderr",
     "output_type": "stream",
     "text": [
      " 33%|███▎      | 301/907 [04:13<11:37,  1.15s/it]"
     ]
    },
    {
     "name": "stdout",
     "output_type": "stream",
     "text": [
      "Batch 300, Loss: 1.4755\n"
     ]
    },
    {
     "name": "stderr",
     "output_type": "stream",
     "text": [
      " 44%|████▍     | 401/907 [06:09<09:46,  1.16s/it]"
     ]
    },
    {
     "name": "stdout",
     "output_type": "stream",
     "text": [
      "Batch 400, Loss: 1.2124\n"
     ]
    },
    {
     "name": "stderr",
     "output_type": "stream",
     "text": [
      " 55%|█████▌    | 501/907 [07:58<05:01,  1.35it/s]"
     ]
    },
    {
     "name": "stdout",
     "output_type": "stream",
     "text": [
      "Batch 500, Loss: 1.7806\n"
     ]
    },
    {
     "name": "stderr",
     "output_type": "stream",
     "text": [
      " 66%|██████▋   | 601/907 [09:25<04:59,  1.02it/s]"
     ]
    },
    {
     "name": "stdout",
     "output_type": "stream",
     "text": [
      "Batch 600, Loss: 1.6756\n"
     ]
    },
    {
     "name": "stderr",
     "output_type": "stream",
     "text": [
      " 77%|███████▋  | 701/907 [10:55<02:40,  1.28it/s]"
     ]
    },
    {
     "name": "stdout",
     "output_type": "stream",
     "text": [
      "Batch 700, Loss: 1.7039\n"
     ]
    },
    {
     "name": "stderr",
     "output_type": "stream",
     "text": [
      " 88%|████████▊ | 801/907 [12:24<01:47,  1.01s/it]"
     ]
    },
    {
     "name": "stdout",
     "output_type": "stream",
     "text": [
      "Batch 800, Loss: 1.4277\n"
     ]
    },
    {
     "name": "stderr",
     "output_type": "stream",
     "text": [
      " 99%|█████████▉| 901/907 [13:57<00:05,  1.06it/s]"
     ]
    },
    {
     "name": "stdout",
     "output_type": "stream",
     "text": [
      "Batch 900, Loss: 1.5545\n"
     ]
    },
    {
     "name": "stderr",
     "output_type": "stream",
     "text": [
      "100%|██████████| 907/907 [14:01<00:00,  1.08it/s]\n"
     ]
    },
    {
     "name": "stdout",
     "output_type": "stream",
     "text": [
      "Epoch: 5, Train Loss: 1.5343\n"
     ]
    },
    {
     "name": "stderr",
     "output_type": "stream",
     "text": [
      "Evaluation: 100%|██████████| 32/32 [00:08<00:00,  3.79it/s]\n"
     ]
    },
    {
     "name": "stdout",
     "output_type": "stream",
     "text": [
      "Validation Loss: 1.4910\n",
      "BLEU Score: 0.1005\n",
      "Best Validation Loss: 1.4910, Best BLEU Score: 0.1005\n",
      "\n"
     ]
    },
    {
     "name": "stderr",
     "output_type": "stream",
     "text": [
      "  0%|          | 1/907 [00:00<12:22,  1.22it/s]"
     ]
    },
    {
     "name": "stdout",
     "output_type": "stream",
     "text": [
      "Batch 0, Loss: 1.8791\n"
     ]
    },
    {
     "name": "stderr",
     "output_type": "stream",
     "text": [
      " 11%|█         | 101/907 [01:37<14:16,  1.06s/it]"
     ]
    },
    {
     "name": "stdout",
     "output_type": "stream",
     "text": [
      "Batch 100, Loss: 1.3101\n"
     ]
    },
    {
     "name": "stderr",
     "output_type": "stream",
     "text": [
      " 22%|██▏       | 201/907 [03:12<10:38,  1.11it/s]"
     ]
    },
    {
     "name": "stdout",
     "output_type": "stream",
     "text": [
      "Batch 200, Loss: 1.5564\n"
     ]
    },
    {
     "name": "stderr",
     "output_type": "stream",
     "text": [
      " 33%|███▎      | 301/907 [04:40<08:40,  1.16it/s]"
     ]
    },
    {
     "name": "stdout",
     "output_type": "stream",
     "text": [
      "Batch 300, Loss: 1.5162\n"
     ]
    },
    {
     "name": "stderr",
     "output_type": "stream",
     "text": [
      " 44%|████▍     | 401/907 [06:03<06:52,  1.23it/s]"
     ]
    },
    {
     "name": "stdout",
     "output_type": "stream",
     "text": [
      "Batch 400, Loss: 1.4008\n"
     ]
    },
    {
     "name": "stderr",
     "output_type": "stream",
     "text": [
      " 55%|█████▌    | 501/907 [07:33<06:19,  1.07it/s]"
     ]
    },
    {
     "name": "stdout",
     "output_type": "stream",
     "text": [
      "Batch 500, Loss: 1.7488\n"
     ]
    },
    {
     "name": "stderr",
     "output_type": "stream",
     "text": [
      " 66%|██████▋   | 601/907 [08:57<04:15,  1.20it/s]"
     ]
    },
    {
     "name": "stdout",
     "output_type": "stream",
     "text": [
      "Batch 600, Loss: 1.3456\n"
     ]
    },
    {
     "name": "stderr",
     "output_type": "stream",
     "text": [
      " 77%|███████▋  | 701/907 [10:23<02:52,  1.20it/s]"
     ]
    },
    {
     "name": "stdout",
     "output_type": "stream",
     "text": [
      "Batch 700, Loss: 1.7707\n"
     ]
    },
    {
     "name": "stderr",
     "output_type": "stream",
     "text": [
      " 88%|████████▊ | 801/907 [11:52<01:38,  1.08it/s]"
     ]
    },
    {
     "name": "stdout",
     "output_type": "stream",
     "text": [
      "Batch 800, Loss: 1.8464\n"
     ]
    },
    {
     "name": "stderr",
     "output_type": "stream",
     "text": [
      " 99%|█████████▉| 901/907 [13:19<00:04,  1.24it/s]"
     ]
    },
    {
     "name": "stdout",
     "output_type": "stream",
     "text": [
      "Batch 900, Loss: 1.8754\n"
     ]
    },
    {
     "name": "stderr",
     "output_type": "stream",
     "text": [
      "100%|██████████| 907/907 [13:24<00:00,  1.13it/s]\n"
     ]
    },
    {
     "name": "stdout",
     "output_type": "stream",
     "text": [
      "Epoch: 6, Train Loss: 1.5314\n"
     ]
    },
    {
     "name": "stderr",
     "output_type": "stream",
     "text": [
      "Evaluation: 100%|██████████| 32/32 [00:08<00:00,  3.63it/s]\n"
     ]
    },
    {
     "name": "stdout",
     "output_type": "stream",
     "text": [
      "Validation Loss: 1.4860\n",
      "BLEU Score: 0.0993\n",
      "Best Validation Loss: 1.4860, Best BLEU Score: 0.0993\n",
      "\n"
     ]
    },
    {
     "name": "stderr",
     "output_type": "stream",
     "text": [
      "  0%|          | 1/907 [00:00<12:35,  1.20it/s]"
     ]
    },
    {
     "name": "stdout",
     "output_type": "stream",
     "text": [
      "Batch 0, Loss: 1.2825\n"
     ]
    },
    {
     "name": "stderr",
     "output_type": "stream",
     "text": [
      " 11%|█         | 101/907 [01:27<12:57,  1.04it/s]"
     ]
    },
    {
     "name": "stdout",
     "output_type": "stream",
     "text": [
      "Batch 100, Loss: 1.7907\n"
     ]
    },
    {
     "name": "stderr",
     "output_type": "stream",
     "text": [
      " 22%|██▏       | 201/907 [03:23<12:52,  1.09s/it]"
     ]
    },
    {
     "name": "stdout",
     "output_type": "stream",
     "text": [
      "Batch 200, Loss: 1.4595\n"
     ]
    },
    {
     "name": "stderr",
     "output_type": "stream",
     "text": [
      " 33%|███▎      | 301/907 [04:54<08:16,  1.22it/s]"
     ]
    },
    {
     "name": "stdout",
     "output_type": "stream",
     "text": [
      "Batch 300, Loss: 1.4724\n"
     ]
    },
    {
     "name": "stderr",
     "output_type": "stream",
     "text": [
      " 44%|████▍     | 401/907 [06:16<06:03,  1.39it/s]"
     ]
    },
    {
     "name": "stdout",
     "output_type": "stream",
     "text": [
      "Batch 400, Loss: 1.9371\n"
     ]
    },
    {
     "name": "stderr",
     "output_type": "stream",
     "text": [
      " 55%|█████▌    | 501/907 [07:32<05:10,  1.31it/s]"
     ]
    },
    {
     "name": "stdout",
     "output_type": "stream",
     "text": [
      "Batch 500, Loss: 1.7917\n"
     ]
    },
    {
     "name": "stderr",
     "output_type": "stream",
     "text": [
      " 66%|██████▋   | 601/907 [08:48<03:56,  1.30it/s]"
     ]
    },
    {
     "name": "stdout",
     "output_type": "stream",
     "text": [
      "Batch 600, Loss: 1.7342\n"
     ]
    },
    {
     "name": "stderr",
     "output_type": "stream",
     "text": [
      " 77%|███████▋  | 701/907 [10:04<02:34,  1.33it/s]"
     ]
    },
    {
     "name": "stdout",
     "output_type": "stream",
     "text": [
      "Batch 700, Loss: 1.5315\n"
     ]
    },
    {
     "name": "stderr",
     "output_type": "stream",
     "text": [
      " 88%|████████▊ | 801/907 [11:21<01:29,  1.18it/s]"
     ]
    },
    {
     "name": "stdout",
     "output_type": "stream",
     "text": [
      "Batch 800, Loss: 1.0128\n"
     ]
    },
    {
     "name": "stderr",
     "output_type": "stream",
     "text": [
      " 99%|█████████▉| 901/907 [12:37<00:04,  1.21it/s]"
     ]
    },
    {
     "name": "stdout",
     "output_type": "stream",
     "text": [
      "Batch 900, Loss: 1.3270\n"
     ]
    },
    {
     "name": "stderr",
     "output_type": "stream",
     "text": [
      "100%|██████████| 907/907 [12:40<00:00,  1.19it/s]\n"
     ]
    },
    {
     "name": "stdout",
     "output_type": "stream",
     "text": [
      "Epoch: 7, Train Loss: 1.5251\n"
     ]
    },
    {
     "name": "stderr",
     "output_type": "stream",
     "text": [
      "Evaluation: 100%|██████████| 32/32 [00:07<00:00,  4.45it/s]\n"
     ]
    },
    {
     "name": "stdout",
     "output_type": "stream",
     "text": [
      "Validation Loss: 1.4811\n",
      "BLEU Score: 0.1003\n",
      "Best Validation Loss: 1.4811, Best BLEU Score: 0.1003\n",
      "\n"
     ]
    },
    {
     "name": "stderr",
     "output_type": "stream",
     "text": [
      "  0%|          | 1/907 [00:00<13:42,  1.10it/s]"
     ]
    },
    {
     "name": "stdout",
     "output_type": "stream",
     "text": [
      "Batch 0, Loss: 1.2101\n"
     ]
    },
    {
     "name": "stderr",
     "output_type": "stream",
     "text": [
      " 11%|█         | 101/907 [01:21<11:28,  1.17it/s]"
     ]
    },
    {
     "name": "stdout",
     "output_type": "stream",
     "text": [
      "Batch 100, Loss: 1.7759\n"
     ]
    },
    {
     "name": "stderr",
     "output_type": "stream",
     "text": [
      " 22%|██▏       | 201/907 [02:45<08:59,  1.31it/s]"
     ]
    },
    {
     "name": "stdout",
     "output_type": "stream",
     "text": [
      "Batch 200, Loss: 1.4126\n"
     ]
    },
    {
     "name": "stderr",
     "output_type": "stream",
     "text": [
      " 33%|███▎      | 301/907 [04:03<08:11,  1.23it/s]"
     ]
    },
    {
     "name": "stdout",
     "output_type": "stream",
     "text": [
      "Batch 300, Loss: 1.1503\n"
     ]
    },
    {
     "name": "stderr",
     "output_type": "stream",
     "text": [
      " 44%|████▍     | 401/907 [05:20<06:46,  1.24it/s]"
     ]
    },
    {
     "name": "stdout",
     "output_type": "stream",
     "text": [
      "Batch 400, Loss: 1.6379\n"
     ]
    },
    {
     "name": "stderr",
     "output_type": "stream",
     "text": [
      " 55%|█████▌    | 501/907 [06:36<05:36,  1.21it/s]"
     ]
    },
    {
     "name": "stdout",
     "output_type": "stream",
     "text": [
      "Batch 500, Loss: 1.5074\n"
     ]
    },
    {
     "name": "stderr",
     "output_type": "stream",
     "text": [
      " 66%|██████▋   | 601/907 [07:49<03:35,  1.42it/s]"
     ]
    },
    {
     "name": "stdout",
     "output_type": "stream",
     "text": [
      "Batch 600, Loss: 1.2584\n"
     ]
    },
    {
     "name": "stderr",
     "output_type": "stream",
     "text": [
      " 77%|███████▋  | 701/907 [09:04<02:24,  1.43it/s]"
     ]
    },
    {
     "name": "stdout",
     "output_type": "stream",
     "text": [
      "Batch 700, Loss: 1.7834\n"
     ]
    },
    {
     "name": "stderr",
     "output_type": "stream",
     "text": [
      " 88%|████████▊ | 801/907 [10:16<01:11,  1.48it/s]"
     ]
    },
    {
     "name": "stdout",
     "output_type": "stream",
     "text": [
      "Batch 800, Loss: 1.9160\n"
     ]
    },
    {
     "name": "stderr",
     "output_type": "stream",
     "text": [
      " 99%|█████████▉| 901/907 [11:31<00:04,  1.38it/s]"
     ]
    },
    {
     "name": "stdout",
     "output_type": "stream",
     "text": [
      "Batch 900, Loss: 1.6756\n"
     ]
    },
    {
     "name": "stderr",
     "output_type": "stream",
     "text": [
      "100%|██████████| 907/907 [11:35<00:00,  1.30it/s]\n"
     ]
    },
    {
     "name": "stdout",
     "output_type": "stream",
     "text": [
      "Epoch: 8, Train Loss: 1.5163\n"
     ]
    },
    {
     "name": "stderr",
     "output_type": "stream",
     "text": [
      "Evaluation: 100%|██████████| 32/32 [00:06<00:00,  4.59it/s]\n"
     ]
    },
    {
     "name": "stdout",
     "output_type": "stream",
     "text": [
      "Validation Loss: 1.4751\n",
      "BLEU Score: 0.1013\n",
      "Best Validation Loss: 1.4751, Best BLEU Score: 0.1013\n",
      "\n"
     ]
    },
    {
     "name": "stderr",
     "output_type": "stream",
     "text": [
      "  0%|          | 1/907 [00:00<13:51,  1.09it/s]"
     ]
    },
    {
     "name": "stdout",
     "output_type": "stream",
     "text": [
      "Batch 0, Loss: 1.1070\n"
     ]
    },
    {
     "name": "stderr",
     "output_type": "stream",
     "text": [
      " 11%|█         | 101/907 [01:06<08:20,  1.61it/s]"
     ]
    },
    {
     "name": "stdout",
     "output_type": "stream",
     "text": [
      "Batch 100, Loss: 1.5677\n"
     ]
    },
    {
     "name": "stderr",
     "output_type": "stream",
     "text": [
      " 22%|██▏       | 201/907 [02:08<07:29,  1.57it/s]"
     ]
    },
    {
     "name": "stdout",
     "output_type": "stream",
     "text": [
      "Batch 200, Loss: 1.3492\n"
     ]
    },
    {
     "name": "stderr",
     "output_type": "stream",
     "text": [
      " 33%|███▎      | 301/907 [03:11<06:26,  1.57it/s]"
     ]
    },
    {
     "name": "stdout",
     "output_type": "stream",
     "text": [
      "Batch 300, Loss: 1.4889\n"
     ]
    },
    {
     "name": "stderr",
     "output_type": "stream",
     "text": [
      " 44%|████▍     | 401/907 [04:12<04:48,  1.75it/s]"
     ]
    },
    {
     "name": "stdout",
     "output_type": "stream",
     "text": [
      "Batch 400, Loss: 1.3712\n"
     ]
    },
    {
     "name": "stderr",
     "output_type": "stream",
     "text": [
      " 55%|█████▌    | 501/907 [05:09<04:07,  1.64it/s]"
     ]
    },
    {
     "name": "stdout",
     "output_type": "stream",
     "text": [
      "Batch 500, Loss: 1.1194\n"
     ]
    },
    {
     "name": "stderr",
     "output_type": "stream",
     "text": [
      " 66%|██████▋   | 601/907 [06:14<02:59,  1.70it/s]"
     ]
    },
    {
     "name": "stdout",
     "output_type": "stream",
     "text": [
      "Batch 600, Loss: 1.3270\n"
     ]
    },
    {
     "name": "stderr",
     "output_type": "stream",
     "text": [
      " 77%|███████▋  | 701/907 [07:13<01:55,  1.78it/s]"
     ]
    },
    {
     "name": "stdout",
     "output_type": "stream",
     "text": [
      "Batch 700, Loss: 1.4504\n"
     ]
    },
    {
     "name": "stderr",
     "output_type": "stream",
     "text": [
      " 88%|████████▊ | 801/907 [08:13<00:57,  1.84it/s]"
     ]
    },
    {
     "name": "stdout",
     "output_type": "stream",
     "text": [
      "Batch 800, Loss: 1.5749\n"
     ]
    },
    {
     "name": "stderr",
     "output_type": "stream",
     "text": [
      " 99%|█████████▉| 901/907 [09:13<00:03,  1.88it/s]"
     ]
    },
    {
     "name": "stdout",
     "output_type": "stream",
     "text": [
      "Batch 900, Loss: 1.5909\n"
     ]
    },
    {
     "name": "stderr",
     "output_type": "stream",
     "text": [
      "100%|██████████| 907/907 [09:17<00:00,  1.63it/s]\n"
     ]
    },
    {
     "name": "stdout",
     "output_type": "stream",
     "text": [
      "Epoch: 9, Train Loss: 1.5208\n"
     ]
    },
    {
     "name": "stderr",
     "output_type": "stream",
     "text": [
      "Evaluation: 100%|██████████| 32/32 [00:05<00:00,  5.78it/s]\n"
     ]
    },
    {
     "name": "stdout",
     "output_type": "stream",
     "text": [
      "Validation Loss: 1.4697\n",
      "BLEU Score: 0.1023\n",
      "Best Validation Loss: 1.4697, Best BLEU Score: 0.1023\n",
      "\n"
     ]
    },
    {
     "name": "stderr",
     "output_type": "stream",
     "text": [
      "  0%|          | 1/907 [00:00<09:22,  1.61it/s]"
     ]
    },
    {
     "name": "stdout",
     "output_type": "stream",
     "text": [
      "Batch 0, Loss: 1.5204\n"
     ]
    },
    {
     "name": "stderr",
     "output_type": "stream",
     "text": [
      " 11%|█         | 101/907 [01:05<08:03,  1.67it/s]"
     ]
    },
    {
     "name": "stdout",
     "output_type": "stream",
     "text": [
      "Batch 100, Loss: 1.2692\n"
     ]
    },
    {
     "name": "stderr",
     "output_type": "stream",
     "text": [
      " 22%|██▏       | 201/907 [02:09<07:24,  1.59it/s]"
     ]
    },
    {
     "name": "stdout",
     "output_type": "stream",
     "text": [
      "Batch 200, Loss: 1.2551\n"
     ]
    },
    {
     "name": "stderr",
     "output_type": "stream",
     "text": [
      " 33%|███▎      | 301/907 [03:13<06:14,  1.62it/s]"
     ]
    },
    {
     "name": "stdout",
     "output_type": "stream",
     "text": [
      "Batch 300, Loss: 1.6617\n"
     ]
    },
    {
     "name": "stderr",
     "output_type": "stream",
     "text": [
      " 44%|████▍     | 401/907 [04:14<04:53,  1.73it/s]"
     ]
    },
    {
     "name": "stdout",
     "output_type": "stream",
     "text": [
      "Batch 400, Loss: 1.7563\n"
     ]
    },
    {
     "name": "stderr",
     "output_type": "stream",
     "text": [
      " 55%|█████▌    | 501/907 [05:13<04:10,  1.62it/s]"
     ]
    },
    {
     "name": "stdout",
     "output_type": "stream",
     "text": [
      "Batch 500, Loss: 1.5134\n"
     ]
    },
    {
     "name": "stderr",
     "output_type": "stream",
     "text": [
      " 66%|██████▋   | 601/907 [06:11<03:03,  1.67it/s]"
     ]
    },
    {
     "name": "stdout",
     "output_type": "stream",
     "text": [
      "Batch 600, Loss: 1.7329\n"
     ]
    },
    {
     "name": "stderr",
     "output_type": "stream",
     "text": [
      " 77%|███████▋  | 701/907 [07:10<01:52,  1.82it/s]"
     ]
    },
    {
     "name": "stdout",
     "output_type": "stream",
     "text": [
      "Batch 700, Loss: 1.5557\n"
     ]
    },
    {
     "name": "stderr",
     "output_type": "stream",
     "text": [
      " 88%|████████▊ | 801/907 [08:09<01:00,  1.74it/s]"
     ]
    },
    {
     "name": "stdout",
     "output_type": "stream",
     "text": [
      "Batch 800, Loss: 1.2158\n"
     ]
    },
    {
     "name": "stderr",
     "output_type": "stream",
     "text": [
      " 99%|█████████▉| 901/907 [09:10<00:03,  1.57it/s]"
     ]
    },
    {
     "name": "stdout",
     "output_type": "stream",
     "text": [
      "Batch 900, Loss: 1.5476\n"
     ]
    },
    {
     "name": "stderr",
     "output_type": "stream",
     "text": [
      "100%|██████████| 907/907 [09:13<00:00,  1.64it/s]\n"
     ]
    },
    {
     "name": "stdout",
     "output_type": "stream",
     "text": [
      "Epoch: 10, Train Loss: 1.5125\n"
     ]
    },
    {
     "name": "stderr",
     "output_type": "stream",
     "text": [
      "Evaluation: 100%|██████████| 32/32 [00:05<00:00,  5.84it/s]\n"
     ]
    },
    {
     "name": "stdout",
     "output_type": "stream",
     "text": [
      "Validation Loss: 1.4643\n",
      "BLEU Score: 0.1029\n",
      "Best Validation Loss: 1.4643, Best BLEU Score: 0.1029\n",
      "\n"
     ]
    },
    {
     "name": "stderr",
     "output_type": "stream",
     "text": [
      "  0%|          | 1/907 [00:00<10:55,  1.38it/s]"
     ]
    },
    {
     "name": "stdout",
     "output_type": "stream",
     "text": [
      "Batch 0, Loss: 1.5573\n"
     ]
    },
    {
     "name": "stderr",
     "output_type": "stream",
     "text": [
      " 11%|█         | 101/907 [01:03<08:11,  1.64it/s]"
     ]
    },
    {
     "name": "stdout",
     "output_type": "stream",
     "text": [
      "Batch 100, Loss: 1.7253\n"
     ]
    },
    {
     "name": "stderr",
     "output_type": "stream",
     "text": [
      " 22%|██▏       | 201/907 [02:07<06:51,  1.71it/s]"
     ]
    },
    {
     "name": "stdout",
     "output_type": "stream",
     "text": [
      "Batch 200, Loss: 1.8455\n"
     ]
    },
    {
     "name": "stderr",
     "output_type": "stream",
     "text": [
      " 33%|███▎      | 301/907 [03:13<05:58,  1.69it/s]"
     ]
    },
    {
     "name": "stdout",
     "output_type": "stream",
     "text": [
      "Batch 300, Loss: 1.6091\n"
     ]
    },
    {
     "name": "stderr",
     "output_type": "stream",
     "text": [
      " 44%|████▍     | 401/907 [04:14<04:34,  1.84it/s]"
     ]
    },
    {
     "name": "stdout",
     "output_type": "stream",
     "text": [
      "Batch 400, Loss: 1.7443\n"
     ]
    },
    {
     "name": "stderr",
     "output_type": "stream",
     "text": [
      " 55%|█████▌    | 501/907 [05:12<03:58,  1.70it/s]"
     ]
    },
    {
     "name": "stdout",
     "output_type": "stream",
     "text": [
      "Batch 500, Loss: 1.5571\n"
     ]
    },
    {
     "name": "stderr",
     "output_type": "stream",
     "text": [
      " 66%|██████▋   | 601/907 [06:10<02:53,  1.77it/s]"
     ]
    },
    {
     "name": "stdout",
     "output_type": "stream",
     "text": [
      "Batch 600, Loss: 1.5754\n"
     ]
    },
    {
     "name": "stderr",
     "output_type": "stream",
     "text": [
      " 77%|███████▋  | 701/907 [07:10<02:16,  1.51it/s]"
     ]
    },
    {
     "name": "stdout",
     "output_type": "stream",
     "text": [
      "Batch 700, Loss: 0.9255\n"
     ]
    },
    {
     "name": "stderr",
     "output_type": "stream",
     "text": [
      " 88%|████████▊ | 801/907 [08:11<00:57,  1.84it/s]"
     ]
    },
    {
     "name": "stdout",
     "output_type": "stream",
     "text": [
      "Batch 800, Loss: 1.4790\n"
     ]
    },
    {
     "name": "stderr",
     "output_type": "stream",
     "text": [
      " 99%|█████████▉| 901/907 [09:11<00:03,  1.67it/s]"
     ]
    },
    {
     "name": "stdout",
     "output_type": "stream",
     "text": [
      "Batch 900, Loss: 1.6061\n"
     ]
    },
    {
     "name": "stderr",
     "output_type": "stream",
     "text": [
      "100%|██████████| 907/907 [09:15<00:00,  1.63it/s]\n"
     ]
    },
    {
     "name": "stdout",
     "output_type": "stream",
     "text": [
      "Epoch: 11, Train Loss: 1.5042\n"
     ]
    },
    {
     "name": "stderr",
     "output_type": "stream",
     "text": [
      "Evaluation: 100%|██████████| 32/32 [00:05<00:00,  5.89it/s]\n"
     ]
    },
    {
     "name": "stdout",
     "output_type": "stream",
     "text": [
      "Validation Loss: 1.4576\n",
      "BLEU Score: 0.1037\n",
      "Best Validation Loss: 1.4576, Best BLEU Score: 0.1037\n",
      "\n"
     ]
    },
    {
     "name": "stderr",
     "output_type": "stream",
     "text": [
      "  0%|          | 1/907 [00:00<09:38,  1.57it/s]"
     ]
    },
    {
     "name": "stdout",
     "output_type": "stream",
     "text": [
      "Batch 0, Loss: 1.7401\n"
     ]
    },
    {
     "name": "stderr",
     "output_type": "stream",
     "text": [
      " 11%|█         | 101/907 [01:04<10:00,  1.34it/s]"
     ]
    },
    {
     "name": "stdout",
     "output_type": "stream",
     "text": [
      "Batch 100, Loss: 1.1896\n"
     ]
    },
    {
     "name": "stderr",
     "output_type": "stream",
     "text": [
      " 22%|██▏       | 201/907 [02:17<06:35,  1.78it/s]"
     ]
    },
    {
     "name": "stdout",
     "output_type": "stream",
     "text": [
      "Batch 200, Loss: 1.5250\n"
     ]
    },
    {
     "name": "stderr",
     "output_type": "stream",
     "text": [
      " 33%|███▎      | 301/907 [03:16<05:58,  1.69it/s]"
     ]
    },
    {
     "name": "stdout",
     "output_type": "stream",
     "text": [
      "Batch 300, Loss: 1.2016\n"
     ]
    },
    {
     "name": "stderr",
     "output_type": "stream",
     "text": [
      " 44%|████▍     | 401/907 [04:20<06:21,  1.33it/s]"
     ]
    },
    {
     "name": "stdout",
     "output_type": "stream",
     "text": [
      "Batch 400, Loss: 1.1837\n"
     ]
    },
    {
     "name": "stderr",
     "output_type": "stream",
     "text": [
      " 55%|█████▌    | 501/907 [05:49<04:39,  1.45it/s]"
     ]
    },
    {
     "name": "stdout",
     "output_type": "stream",
     "text": [
      "Batch 500, Loss: 1.5768\n"
     ]
    },
    {
     "name": "stderr",
     "output_type": "stream",
     "text": [
      " 66%|██████▋   | 601/907 [06:56<03:06,  1.64it/s]"
     ]
    },
    {
     "name": "stdout",
     "output_type": "stream",
     "text": [
      "Batch 600, Loss: 1.5048\n"
     ]
    },
    {
     "name": "stderr",
     "output_type": "stream",
     "text": [
      " 77%|███████▋  | 701/907 [08:00<02:12,  1.55it/s]"
     ]
    },
    {
     "name": "stdout",
     "output_type": "stream",
     "text": [
      "Batch 700, Loss: 1.3378\n"
     ]
    },
    {
     "name": "stderr",
     "output_type": "stream",
     "text": [
      " 88%|████████▊ | 801/907 [09:03<01:04,  1.64it/s]"
     ]
    },
    {
     "name": "stdout",
     "output_type": "stream",
     "text": [
      "Batch 800, Loss: 1.7006\n"
     ]
    },
    {
     "name": "stderr",
     "output_type": "stream",
     "text": [
      " 99%|█████████▉| 901/907 [10:09<00:04,  1.33it/s]"
     ]
    },
    {
     "name": "stdout",
     "output_type": "stream",
     "text": [
      "Batch 900, Loss: 1.6724\n"
     ]
    },
    {
     "name": "stderr",
     "output_type": "stream",
     "text": [
      "100%|██████████| 907/907 [10:12<00:00,  1.48it/s]\n"
     ]
    },
    {
     "name": "stdout",
     "output_type": "stream",
     "text": [
      "Epoch: 12, Train Loss: 1.4982\n"
     ]
    },
    {
     "name": "stderr",
     "output_type": "stream",
     "text": [
      "Evaluation: 100%|██████████| 32/32 [00:05<00:00,  5.74it/s]\n"
     ]
    },
    {
     "name": "stdout",
     "output_type": "stream",
     "text": [
      "Validation Loss: 1.4517\n",
      "BLEU Score: 0.1052\n",
      "Best Validation Loss: 1.4517, Best BLEU Score: 0.1052\n",
      "\n"
     ]
    },
    {
     "name": "stderr",
     "output_type": "stream",
     "text": [
      "  0%|          | 1/907 [00:00<09:42,  1.56it/s]"
     ]
    },
    {
     "name": "stdout",
     "output_type": "stream",
     "text": [
      "Batch 0, Loss: 1.5314\n"
     ]
    },
    {
     "name": "stderr",
     "output_type": "stream",
     "text": [
      " 11%|█         | 101/907 [01:08<08:27,  1.59it/s]"
     ]
    },
    {
     "name": "stdout",
     "output_type": "stream",
     "text": [
      "Batch 100, Loss: 1.5740\n"
     ]
    },
    {
     "name": "stderr",
     "output_type": "stream",
     "text": [
      " 22%|██▏       | 201/907 [02:20<10:13,  1.15it/s]"
     ]
    },
    {
     "name": "stdout",
     "output_type": "stream",
     "text": [
      "Batch 200, Loss: 1.3942\n"
     ]
    },
    {
     "name": "stderr",
     "output_type": "stream",
     "text": [
      " 33%|███▎      | 301/907 [03:28<06:38,  1.52it/s]"
     ]
    },
    {
     "name": "stdout",
     "output_type": "stream",
     "text": [
      "Batch 300, Loss: 1.2084\n"
     ]
    },
    {
     "name": "stderr",
     "output_type": "stream",
     "text": [
      " 44%|████▍     | 401/907 [04:31<05:13,  1.61it/s]"
     ]
    },
    {
     "name": "stdout",
     "output_type": "stream",
     "text": [
      "Batch 400, Loss: 1.5176\n"
     ]
    },
    {
     "name": "stderr",
     "output_type": "stream",
     "text": [
      " 55%|█████▌    | 501/907 [05:39<04:08,  1.64it/s]"
     ]
    },
    {
     "name": "stdout",
     "output_type": "stream",
     "text": [
      "Batch 500, Loss: 1.6108\n"
     ]
    },
    {
     "name": "stderr",
     "output_type": "stream",
     "text": [
      " 66%|██████▋   | 601/907 [06:45<02:58,  1.72it/s]"
     ]
    },
    {
     "name": "stdout",
     "output_type": "stream",
     "text": [
      "Batch 600, Loss: 1.4560\n"
     ]
    },
    {
     "name": "stderr",
     "output_type": "stream",
     "text": [
      " 77%|███████▋  | 701/907 [08:35<02:21,  1.46it/s]  "
     ]
    },
    {
     "name": "stdout",
     "output_type": "stream",
     "text": [
      "Batch 700, Loss: 1.6911\n"
     ]
    },
    {
     "name": "stderr",
     "output_type": "stream",
     "text": [
      " 88%|████████▊ | 801/907 [09:36<00:56,  1.88it/s]"
     ]
    },
    {
     "name": "stdout",
     "output_type": "stream",
     "text": [
      "Batch 800, Loss: 1.7494\n"
     ]
    },
    {
     "name": "stderr",
     "output_type": "stream",
     "text": [
      " 99%|█████████▉| 901/907 [26:06<00:03,  1.73it/s]   "
     ]
    },
    {
     "name": "stdout",
     "output_type": "stream",
     "text": [
      "Batch 900, Loss: 1.6552\n"
     ]
    },
    {
     "name": "stderr",
     "output_type": "stream",
     "text": [
      "100%|██████████| 907/907 [26:09<00:00,  1.73s/it]\n"
     ]
    },
    {
     "name": "stdout",
     "output_type": "stream",
     "text": [
      "Epoch: 13, Train Loss: 1.4918\n"
     ]
    },
    {
     "name": "stderr",
     "output_type": "stream",
     "text": [
      "Evaluation: 100%|██████████| 32/32 [00:05<00:00,  6.02it/s]\n"
     ]
    },
    {
     "name": "stdout",
     "output_type": "stream",
     "text": [
      "Validation Loss: 1.4448\n",
      "BLEU Score: 0.1056\n",
      "Best Validation Loss: 1.4448, Best BLEU Score: 0.1056\n",
      "\n"
     ]
    },
    {
     "name": "stderr",
     "output_type": "stream",
     "text": [
      "  0%|          | 1/907 [00:00<13:19,  1.13it/s]"
     ]
    },
    {
     "name": "stdout",
     "output_type": "stream",
     "text": [
      "Batch 0, Loss: 1.6021\n"
     ]
    },
    {
     "name": "stderr",
     "output_type": "stream",
     "text": [
      " 11%|█         | 101/907 [01:14<09:35,  1.40it/s]"
     ]
    },
    {
     "name": "stdout",
     "output_type": "stream",
     "text": [
      "Batch 100, Loss: 1.8006\n"
     ]
    },
    {
     "name": "stderr",
     "output_type": "stream",
     "text": [
      " 22%|██▏       | 201/907 [02:40<09:48,  1.20it/s]"
     ]
    },
    {
     "name": "stdout",
     "output_type": "stream",
     "text": [
      "Batch 200, Loss: 1.7335\n"
     ]
    },
    {
     "name": "stderr",
     "output_type": "stream",
     "text": [
      " 33%|███▎      | 301/907 [04:14<11:08,  1.10s/it]"
     ]
    },
    {
     "name": "stdout",
     "output_type": "stream",
     "text": [
      "Batch 300, Loss: 1.5942\n"
     ]
    },
    {
     "name": "stderr",
     "output_type": "stream",
     "text": [
      " 44%|████▍     | 401/907 [05:49<06:22,  1.32it/s]"
     ]
    },
    {
     "name": "stdout",
     "output_type": "stream",
     "text": [
      "Batch 400, Loss: 1.8464\n"
     ]
    },
    {
     "name": "stderr",
     "output_type": "stream",
     "text": [
      " 55%|█████▌    | 501/907 [07:08<05:12,  1.30it/s]"
     ]
    },
    {
     "name": "stdout",
     "output_type": "stream",
     "text": [
      "Batch 500, Loss: 1.4326\n"
     ]
    },
    {
     "name": "stderr",
     "output_type": "stream",
     "text": [
      " 66%|██████▋   | 601/907 [08:26<04:20,  1.18it/s]"
     ]
    },
    {
     "name": "stdout",
     "output_type": "stream",
     "text": [
      "Batch 600, Loss: 1.2828\n"
     ]
    },
    {
     "name": "stderr",
     "output_type": "stream",
     "text": [
      " 77%|███████▋  | 701/907 [09:50<02:43,  1.26it/s]"
     ]
    },
    {
     "name": "stdout",
     "output_type": "stream",
     "text": [
      "Batch 700, Loss: 1.7566\n"
     ]
    },
    {
     "name": "stderr",
     "output_type": "stream",
     "text": [
      " 88%|████████▊ | 801/907 [11:10<01:27,  1.21it/s]"
     ]
    },
    {
     "name": "stdout",
     "output_type": "stream",
     "text": [
      "Batch 800, Loss: 1.3804\n"
     ]
    },
    {
     "name": "stderr",
     "output_type": "stream",
     "text": [
      " 99%|█████████▉| 901/907 [12:30<00:04,  1.24it/s]"
     ]
    },
    {
     "name": "stdout",
     "output_type": "stream",
     "text": [
      "Batch 900, Loss: 1.5806\n"
     ]
    },
    {
     "name": "stderr",
     "output_type": "stream",
     "text": [
      "100%|██████████| 907/907 [12:34<00:00,  1.20it/s]\n"
     ]
    },
    {
     "name": "stdout",
     "output_type": "stream",
     "text": [
      "Epoch: 14, Train Loss: 1.4847\n"
     ]
    },
    {
     "name": "stderr",
     "output_type": "stream",
     "text": [
      "Evaluation: 100%|██████████| 32/32 [00:08<00:00,  3.95it/s]\n"
     ]
    },
    {
     "name": "stdout",
     "output_type": "stream",
     "text": [
      "Validation Loss: 1.4364\n",
      "BLEU Score: 0.1070\n",
      "Best Validation Loss: 1.4364, Best BLEU Score: 0.1070\n",
      "\n"
     ]
    },
    {
     "name": "stderr",
     "output_type": "stream",
     "text": [
      "  0%|          | 1/907 [00:00<15:05,  1.00it/s]"
     ]
    },
    {
     "name": "stdout",
     "output_type": "stream",
     "text": [
      "Batch 0, Loss: 1.1305\n"
     ]
    },
    {
     "name": "stderr",
     "output_type": "stream",
     "text": [
      " 11%|█         | 101/907 [01:30<12:25,  1.08it/s]"
     ]
    },
    {
     "name": "stdout",
     "output_type": "stream",
     "text": [
      "Batch 100, Loss: 1.3466\n"
     ]
    },
    {
     "name": "stderr",
     "output_type": "stream",
     "text": [
      " 22%|██▏       | 201/907 [03:15<12:06,  1.03s/it]"
     ]
    },
    {
     "name": "stdout",
     "output_type": "stream",
     "text": [
      "Batch 200, Loss: 1.1916\n"
     ]
    },
    {
     "name": "stderr",
     "output_type": "stream",
     "text": [
      " 33%|███▎      | 301/907 [04:50<07:58,  1.27it/s]"
     ]
    },
    {
     "name": "stdout",
     "output_type": "stream",
     "text": [
      "Batch 300, Loss: 1.7541\n"
     ]
    },
    {
     "name": "stderr",
     "output_type": "stream",
     "text": [
      " 44%|████▍     | 401/907 [06:16<07:02,  1.20it/s]"
     ]
    },
    {
     "name": "stdout",
     "output_type": "stream",
     "text": [
      "Batch 400, Loss: 1.3375\n"
     ]
    },
    {
     "name": "stderr",
     "output_type": "stream",
     "text": [
      " 55%|█████▌    | 501/907 [07:38<05:26,  1.24it/s]"
     ]
    },
    {
     "name": "stdout",
     "output_type": "stream",
     "text": [
      "Batch 500, Loss: 1.5011\n"
     ]
    },
    {
     "name": "stderr",
     "output_type": "stream",
     "text": [
      " 66%|██████▋   | 601/907 [09:01<04:17,  1.19it/s]"
     ]
    },
    {
     "name": "stdout",
     "output_type": "stream",
     "text": [
      "Batch 600, Loss: 1.4123\n"
     ]
    },
    {
     "name": "stderr",
     "output_type": "stream",
     "text": [
      " 77%|███████▋  | 701/907 [10:32<03:12,  1.07it/s]"
     ]
    },
    {
     "name": "stdout",
     "output_type": "stream",
     "text": [
      "Batch 700, Loss: 1.3755\n"
     ]
    },
    {
     "name": "stderr",
     "output_type": "stream",
     "text": [
      " 88%|████████▊ | 801/907 [12:04<01:44,  1.02it/s]"
     ]
    },
    {
     "name": "stdout",
     "output_type": "stream",
     "text": [
      "Batch 800, Loss: 1.7039\n"
     ]
    },
    {
     "name": "stderr",
     "output_type": "stream",
     "text": [
      " 99%|█████████▉| 901/907 [13:29<00:05,  1.13it/s]"
     ]
    },
    {
     "name": "stdout",
     "output_type": "stream",
     "text": [
      "Batch 900, Loss: 1.2571\n"
     ]
    },
    {
     "name": "stderr",
     "output_type": "stream",
     "text": [
      "100%|██████████| 907/907 [13:33<00:00,  1.11it/s]\n"
     ]
    },
    {
     "name": "stdout",
     "output_type": "stream",
     "text": [
      "Epoch: 15, Train Loss: 1.4710\n"
     ]
    },
    {
     "name": "stderr",
     "output_type": "stream",
     "text": [
      "Evaluation: 100%|██████████| 32/32 [00:08<00:00,  3.83it/s]\n"
     ]
    },
    {
     "name": "stdout",
     "output_type": "stream",
     "text": [
      "Validation Loss: 1.4297\n",
      "BLEU Score: 0.1085\n",
      "Best Validation Loss: 1.4297, Best BLEU Score: 0.1085\n",
      "\n"
     ]
    },
    {
     "name": "stderr",
     "output_type": "stream",
     "text": [
      "  0%|          | 1/907 [00:00<11:09,  1.35it/s]"
     ]
    },
    {
     "name": "stdout",
     "output_type": "stream",
     "text": [
      "Batch 0, Loss: 1.5367\n"
     ]
    },
    {
     "name": "stderr",
     "output_type": "stream",
     "text": [
      " 11%|█         | 101/907 [01:29<12:08,  1.11it/s]"
     ]
    },
    {
     "name": "stdout",
     "output_type": "stream",
     "text": [
      "Batch 100, Loss: 1.4211\n"
     ]
    },
    {
     "name": "stderr",
     "output_type": "stream",
     "text": [
      " 22%|██▏       | 201/907 [02:50<06:18,  1.87it/s]"
     ]
    },
    {
     "name": "stdout",
     "output_type": "stream",
     "text": [
      "Batch 200, Loss: 1.8671\n"
     ]
    },
    {
     "name": "stderr",
     "output_type": "stream",
     "text": [
      " 33%|███▎      | 301/907 [03:46<05:44,  1.76it/s]"
     ]
    },
    {
     "name": "stdout",
     "output_type": "stream",
     "text": [
      "Batch 300, Loss: 1.7707\n"
     ]
    },
    {
     "name": "stderr",
     "output_type": "stream",
     "text": [
      " 44%|████▍     | 401/907 [04:43<04:27,  1.89it/s]"
     ]
    },
    {
     "name": "stdout",
     "output_type": "stream",
     "text": [
      "Batch 400, Loss: 1.6838\n"
     ]
    },
    {
     "name": "stderr",
     "output_type": "stream",
     "text": [
      " 55%|█████▌    | 501/907 [05:40<03:53,  1.74it/s]"
     ]
    },
    {
     "name": "stdout",
     "output_type": "stream",
     "text": [
      "Batch 500, Loss: 1.3062\n"
     ]
    },
    {
     "name": "stderr",
     "output_type": "stream",
     "text": [
      " 66%|██████▋   | 601/907 [06:37<02:59,  1.70it/s]"
     ]
    },
    {
     "name": "stdout",
     "output_type": "stream",
     "text": [
      "Batch 600, Loss: 1.2653\n"
     ]
    },
    {
     "name": "stderr",
     "output_type": "stream",
     "text": [
      " 77%|███████▋  | 701/907 [07:33<01:45,  1.96it/s]"
     ]
    },
    {
     "name": "stdout",
     "output_type": "stream",
     "text": [
      "Batch 700, Loss: 1.4127\n"
     ]
    },
    {
     "name": "stderr",
     "output_type": "stream",
     "text": [
      " 88%|████████▊ | 801/907 [08:29<00:59,  1.78it/s]"
     ]
    },
    {
     "name": "stdout",
     "output_type": "stream",
     "text": [
      "Batch 800, Loss: 1.5753\n"
     ]
    },
    {
     "name": "stderr",
     "output_type": "stream",
     "text": [
      " 99%|█████████▉| 901/907 [09:24<00:03,  1.78it/s]"
     ]
    },
    {
     "name": "stdout",
     "output_type": "stream",
     "text": [
      "Batch 900, Loss: 1.2665\n"
     ]
    },
    {
     "name": "stderr",
     "output_type": "stream",
     "text": [
      "100%|██████████| 907/907 [09:27<00:00,  1.60it/s]\n"
     ]
    },
    {
     "name": "stdout",
     "output_type": "stream",
     "text": [
      "Epoch: 16, Train Loss: 1.4654\n"
     ]
    },
    {
     "name": "stderr",
     "output_type": "stream",
     "text": [
      "Evaluation: 100%|██████████| 32/32 [00:05<00:00,  5.81it/s]\n"
     ]
    },
    {
     "name": "stdout",
     "output_type": "stream",
     "text": [
      "Validation Loss: 1.4220\n",
      "BLEU Score: 0.1084\n",
      "Best Validation Loss: 1.4220, Best BLEU Score: 0.1084\n",
      "\n"
     ]
    },
    {
     "name": "stderr",
     "output_type": "stream",
     "text": [
      "  0%|          | 1/907 [00:00<09:59,  1.51it/s]"
     ]
    },
    {
     "name": "stdout",
     "output_type": "stream",
     "text": [
      "Batch 0, Loss: 1.3597\n"
     ]
    },
    {
     "name": "stderr",
     "output_type": "stream",
     "text": [
      " 11%|█         | 101/907 [03:07<50:24,  3.75s/it]  "
     ]
    },
    {
     "name": "stdout",
     "output_type": "stream",
     "text": [
      "Batch 100, Loss: 1.5149\n"
     ]
    },
    {
     "name": "stderr",
     "output_type": "stream",
     "text": [
      " 22%|██▏       | 201/907 [04:24<10:36,  1.11it/s]"
     ]
    },
    {
     "name": "stdout",
     "output_type": "stream",
     "text": [
      "Batch 200, Loss: 1.0931\n"
     ]
    },
    {
     "name": "stderr",
     "output_type": "stream",
     "text": [
      " 33%|███▎      | 301/907 [06:21<08:10,  1.24it/s]  "
     ]
    },
    {
     "name": "stdout",
     "output_type": "stream",
     "text": [
      "Batch 300, Loss: 1.4561\n"
     ]
    },
    {
     "name": "stderr",
     "output_type": "stream",
     "text": [
      " 44%|████▍     | 401/907 [22:52<05:40,  1.49it/s]    "
     ]
    },
    {
     "name": "stdout",
     "output_type": "stream",
     "text": [
      "Batch 400, Loss: 1.2556\n"
     ]
    },
    {
     "name": "stderr",
     "output_type": "stream",
     "text": [
      " 55%|█████▌    | 501/907 [24:04<04:27,  1.52it/s]"
     ]
    },
    {
     "name": "stdout",
     "output_type": "stream",
     "text": [
      "Batch 500, Loss: 1.1047\n"
     ]
    },
    {
     "name": "stderr",
     "output_type": "stream",
     "text": [
      " 66%|██████▋   | 601/907 [25:09<03:31,  1.45it/s]"
     ]
    },
    {
     "name": "stdout",
     "output_type": "stream",
     "text": [
      "Batch 600, Loss: 1.9753\n"
     ]
    },
    {
     "name": "stderr",
     "output_type": "stream",
     "text": [
      " 77%|███████▋  | 701/907 [26:16<02:09,  1.60it/s]"
     ]
    },
    {
     "name": "stdout",
     "output_type": "stream",
     "text": [
      "Batch 700, Loss: 1.7295\n"
     ]
    },
    {
     "name": "stderr",
     "output_type": "stream",
     "text": [
      " 88%|████████▊ | 801/907 [27:22<01:14,  1.42it/s]"
     ]
    },
    {
     "name": "stdout",
     "output_type": "stream",
     "text": [
      "Batch 800, Loss: 1.3196\n"
     ]
    },
    {
     "name": "stderr",
     "output_type": "stream",
     "text": [
      " 99%|█████████▉| 901/907 [28:32<00:04,  1.40it/s]"
     ]
    },
    {
     "name": "stdout",
     "output_type": "stream",
     "text": [
      "Batch 900, Loss: 1.4999\n"
     ]
    },
    {
     "name": "stderr",
     "output_type": "stream",
     "text": [
      "100%|██████████| 907/907 [28:36<00:00,  1.89s/it]\n"
     ]
    },
    {
     "name": "stdout",
     "output_type": "stream",
     "text": [
      "Epoch: 17, Train Loss: 1.4584\n"
     ]
    },
    {
     "name": "stderr",
     "output_type": "stream",
     "text": [
      "Evaluation: 100%|██████████| 32/32 [00:06<00:00,  4.62it/s]\n"
     ]
    },
    {
     "name": "stdout",
     "output_type": "stream",
     "text": [
      "Validation Loss: 1.4143\n",
      "BLEU Score: 0.1092\n",
      "Best Validation Loss: 1.4143, Best BLEU Score: 0.1092\n",
      "\n"
     ]
    },
    {
     "name": "stderr",
     "output_type": "stream",
     "text": [
      "  0%|          | 1/907 [00:00<10:58,  1.37it/s]"
     ]
    },
    {
     "name": "stdout",
     "output_type": "stream",
     "text": [
      "Batch 0, Loss: 1.3865\n"
     ]
    },
    {
     "name": "stderr",
     "output_type": "stream",
     "text": [
      " 11%|█         | 101/907 [01:14<09:31,  1.41it/s]"
     ]
    },
    {
     "name": "stdout",
     "output_type": "stream",
     "text": [
      "Batch 100, Loss: 1.3310\n"
     ]
    },
    {
     "name": "stderr",
     "output_type": "stream",
     "text": [
      " 22%|██▏       | 201/907 [02:30<08:40,  1.36it/s]"
     ]
    },
    {
     "name": "stdout",
     "output_type": "stream",
     "text": [
      "Batch 200, Loss: 1.6928\n"
     ]
    },
    {
     "name": "stderr",
     "output_type": "stream",
     "text": [
      " 33%|███▎      | 301/907 [03:45<05:57,  1.69it/s]"
     ]
    },
    {
     "name": "stdout",
     "output_type": "stream",
     "text": [
      "Batch 300, Loss: 1.4824\n"
     ]
    },
    {
     "name": "stderr",
     "output_type": "stream",
     "text": [
      " 44%|████▍     | 401/907 [04:52<05:36,  1.51it/s]"
     ]
    },
    {
     "name": "stdout",
     "output_type": "stream",
     "text": [
      "Batch 400, Loss: 1.4051\n"
     ]
    },
    {
     "name": "stderr",
     "output_type": "stream",
     "text": [
      " 55%|█████▌    | 501/907 [06:01<03:51,  1.75it/s]"
     ]
    },
    {
     "name": "stdout",
     "output_type": "stream",
     "text": [
      "Batch 500, Loss: 1.4121\n"
     ]
    },
    {
     "name": "stderr",
     "output_type": "stream",
     "text": [
      " 66%|██████▋   | 601/907 [07:01<02:54,  1.75it/s]"
     ]
    },
    {
     "name": "stdout",
     "output_type": "stream",
     "text": [
      "Batch 600, Loss: 1.3581\n"
     ]
    },
    {
     "name": "stderr",
     "output_type": "stream",
     "text": [
      " 77%|███████▋  | 701/907 [08:05<02:09,  1.59it/s]"
     ]
    },
    {
     "name": "stdout",
     "output_type": "stream",
     "text": [
      "Batch 700, Loss: 1.2740\n"
     ]
    },
    {
     "name": "stderr",
     "output_type": "stream",
     "text": [
      " 88%|████████▊ | 801/907 [09:10<01:04,  1.65it/s]"
     ]
    },
    {
     "name": "stdout",
     "output_type": "stream",
     "text": [
      "Batch 800, Loss: 1.7384\n"
     ]
    },
    {
     "name": "stderr",
     "output_type": "stream",
     "text": [
      " 99%|█████████▉| 901/907 [10:12<00:03,  1.70it/s]"
     ]
    },
    {
     "name": "stdout",
     "output_type": "stream",
     "text": [
      "Batch 900, Loss: 1.7764\n"
     ]
    },
    {
     "name": "stderr",
     "output_type": "stream",
     "text": [
      "100%|██████████| 907/907 [10:16<00:00,  1.47it/s]\n"
     ]
    },
    {
     "name": "stdout",
     "output_type": "stream",
     "text": [
      "Epoch: 18, Train Loss: 1.4443\n"
     ]
    },
    {
     "name": "stderr",
     "output_type": "stream",
     "text": [
      "Evaluation: 100%|██████████| 32/32 [00:05<00:00,  5.57it/s]\n"
     ]
    },
    {
     "name": "stdout",
     "output_type": "stream",
     "text": [
      "Validation Loss: 1.4060\n",
      "BLEU Score: 0.1107\n",
      "Best Validation Loss: 1.4060, Best BLEU Score: 0.1107\n",
      "\n"
     ]
    },
    {
     "name": "stderr",
     "output_type": "stream",
     "text": [
      "  0%|          | 1/907 [00:00<09:28,  1.59it/s]"
     ]
    },
    {
     "name": "stdout",
     "output_type": "stream",
     "text": [
      "Batch 0, Loss: 1.8276\n"
     ]
    },
    {
     "name": "stderr",
     "output_type": "stream",
     "text": [
      " 11%|█         | 101/907 [01:05<08:24,  1.60it/s]"
     ]
    },
    {
     "name": "stdout",
     "output_type": "stream",
     "text": [
      "Batch 100, Loss: 1.7779\n"
     ]
    },
    {
     "name": "stderr",
     "output_type": "stream",
     "text": [
      " 22%|██▏       | 201/907 [02:13<08:08,  1.44it/s]"
     ]
    },
    {
     "name": "stdout",
     "output_type": "stream",
     "text": [
      "Batch 200, Loss: 1.2879\n"
     ]
    },
    {
     "name": "stderr",
     "output_type": "stream",
     "text": [
      " 33%|███▎      | 301/907 [03:24<06:39,  1.52it/s]"
     ]
    },
    {
     "name": "stdout",
     "output_type": "stream",
     "text": [
      "Batch 300, Loss: 1.5213\n"
     ]
    },
    {
     "name": "stderr",
     "output_type": "stream",
     "text": [
      " 44%|████▍     | 401/907 [04:33<05:57,  1.42it/s]"
     ]
    },
    {
     "name": "stdout",
     "output_type": "stream",
     "text": [
      "Batch 400, Loss: 1.4090\n"
     ]
    },
    {
     "name": "stderr",
     "output_type": "stream",
     "text": [
      " 55%|█████▌    | 501/907 [05:44<04:38,  1.46it/s]"
     ]
    },
    {
     "name": "stdout",
     "output_type": "stream",
     "text": [
      "Batch 500, Loss: 1.3902\n"
     ]
    },
    {
     "name": "stderr",
     "output_type": "stream",
     "text": [
      " 66%|██████▋   | 601/907 [06:54<03:30,  1.45it/s]"
     ]
    },
    {
     "name": "stdout",
     "output_type": "stream",
     "text": [
      "Batch 600, Loss: 1.3780\n"
     ]
    },
    {
     "name": "stderr",
     "output_type": "stream",
     "text": [
      " 77%|███████▋  | 701/907 [08:07<02:46,  1.24it/s]"
     ]
    },
    {
     "name": "stdout",
     "output_type": "stream",
     "text": [
      "Batch 700, Loss: 1.6497\n"
     ]
    },
    {
     "name": "stderr",
     "output_type": "stream",
     "text": [
      " 88%|████████▊ | 801/907 [09:21<01:13,  1.45it/s]"
     ]
    },
    {
     "name": "stdout",
     "output_type": "stream",
     "text": [
      "Batch 800, Loss: 1.2954\n"
     ]
    },
    {
     "name": "stderr",
     "output_type": "stream",
     "text": [
      " 99%|█████████▉| 901/907 [10:35<00:04,  1.41it/s]"
     ]
    },
    {
     "name": "stdout",
     "output_type": "stream",
     "text": [
      "Batch 900, Loss: 1.5826\n"
     ]
    },
    {
     "name": "stderr",
     "output_type": "stream",
     "text": [
      "100%|██████████| 907/907 [10:39<00:00,  1.42it/s]\n"
     ]
    },
    {
     "name": "stdout",
     "output_type": "stream",
     "text": [
      "Epoch: 19, Train Loss: 1.4360\n"
     ]
    },
    {
     "name": "stderr",
     "output_type": "stream",
     "text": [
      "Evaluation: 100%|██████████| 32/32 [00:07<00:00,  4.47it/s]\n"
     ]
    },
    {
     "name": "stdout",
     "output_type": "stream",
     "text": [
      "Validation Loss: 1.4002\n",
      "BLEU Score: 0.1118\n",
      "Best Validation Loss: 1.4002, Best BLEU Score: 0.1118\n",
      "\n"
     ]
    },
    {
     "name": "stderr",
     "output_type": "stream",
     "text": [
      "  0%|          | 1/907 [00:00<12:03,  1.25it/s]"
     ]
    },
    {
     "name": "stdout",
     "output_type": "stream",
     "text": [
      "Batch 0, Loss: 1.3173\n"
     ]
    },
    {
     "name": "stderr",
     "output_type": "stream",
     "text": [
      " 11%|█         | 101/907 [01:24<11:23,  1.18it/s]"
     ]
    },
    {
     "name": "stdout",
     "output_type": "stream",
     "text": [
      "Batch 100, Loss: 1.1232\n"
     ]
    },
    {
     "name": "stderr",
     "output_type": "stream",
     "text": [
      " 22%|██▏       | 201/907 [02:51<09:53,  1.19it/s]"
     ]
    },
    {
     "name": "stdout",
     "output_type": "stream",
     "text": [
      "Batch 200, Loss: 1.4249\n"
     ]
    },
    {
     "name": "stderr",
     "output_type": "stream",
     "text": [
      " 33%|███▎      | 301/907 [04:15<08:18,  1.22it/s]"
     ]
    },
    {
     "name": "stdout",
     "output_type": "stream",
     "text": [
      "Batch 300, Loss: 1.3419\n"
     ]
    },
    {
     "name": "stderr",
     "output_type": "stream",
     "text": [
      " 44%|████▍     | 401/907 [05:36<06:31,  1.29it/s]"
     ]
    },
    {
     "name": "stdout",
     "output_type": "stream",
     "text": [
      "Batch 400, Loss: 1.3689\n"
     ]
    },
    {
     "name": "stderr",
     "output_type": "stream",
     "text": [
      " 55%|█████▌    | 501/907 [06:55<05:14,  1.29it/s]"
     ]
    },
    {
     "name": "stdout",
     "output_type": "stream",
     "text": [
      "Batch 500, Loss: 1.5212\n"
     ]
    },
    {
     "name": "stderr",
     "output_type": "stream",
     "text": [
      " 66%|██████▋   | 601/907 [08:15<03:56,  1.29it/s]"
     ]
    },
    {
     "name": "stdout",
     "output_type": "stream",
     "text": [
      "Batch 600, Loss: 1.5132\n"
     ]
    },
    {
     "name": "stderr",
     "output_type": "stream",
     "text": [
      " 77%|███████▋  | 701/907 [09:36<03:03,  1.12it/s]"
     ]
    },
    {
     "name": "stdout",
     "output_type": "stream",
     "text": [
      "Batch 700, Loss: 1.0694\n"
     ]
    },
    {
     "name": "stderr",
     "output_type": "stream",
     "text": [
      " 88%|████████▊ | 801/907 [10:58<01:21,  1.30it/s]"
     ]
    },
    {
     "name": "stdout",
     "output_type": "stream",
     "text": [
      "Batch 800, Loss: 1.3635\n"
     ]
    },
    {
     "name": "stderr",
     "output_type": "stream",
     "text": [
      " 99%|█████████▉| 901/907 [12:24<00:05,  1.11it/s]"
     ]
    },
    {
     "name": "stdout",
     "output_type": "stream",
     "text": [
      "Batch 900, Loss: 1.1337\n"
     ]
    },
    {
     "name": "stderr",
     "output_type": "stream",
     "text": [
      "100%|██████████| 907/907 [12:29<00:00,  1.21it/s]\n"
     ]
    },
    {
     "name": "stdout",
     "output_type": "stream",
     "text": [
      "Epoch: 20, Train Loss: 1.4252\n"
     ]
    },
    {
     "name": "stderr",
     "output_type": "stream",
     "text": [
      "Evaluation: 100%|██████████| 32/32 [00:08<00:00,  3.83it/s]\n"
     ]
    },
    {
     "name": "stdout",
     "output_type": "stream",
     "text": [
      "Validation Loss: 1.3895\n",
      "BLEU Score: 0.1137\n",
      "Best Validation Loss: 1.3895, Best BLEU Score: 0.1137\n",
      "\n"
     ]
    }
   ],
   "source": [
    "\n",
    "import warnings\n",
    "import torchtext\n",
    "torchtext.disable_torchtext_deprecation_warning()\n",
    "warnings.warn(torchtext._TORCHTEXT_DEPRECATION_MSG)\n",
    "warnings.filterwarnings(\"ignore\")\n",
    "import torch\n",
    "import torch.nn as nn\n",
    "import torch.nn.functional as F\n",
    "from torch.utils.data import  DataLoader\n",
    "from torchtext.datasets import Multi30k\n",
    "from torch.nn.utils.rnn import pad_sequence\n",
    "import spacy\n",
    "from tqdm import tqdm\n",
    "import math\n",
    "from torchtext.data.metrics import bleu_score\n",
    "from collections import Counter\n",
    "\n",
    "\n",
    "def convert_ids_to_tokens(ids, vocab_dict):\n",
    "    \"\"\"Convert token ids back to text tokens\"\"\"\n",
    "    # Create reverse vocabulary (id to token mapping)\n",
    "    id_to_token = {v: k for k, v in vocab_dict.items()}\n",
    "    return [id_to_token[id.item()] for id in ids]\n",
    "\n",
    "def calculate_bleu(model, data_loader, dataset, device):\n",
    "    ''' Calculate BLEU score on the validation set '''\n",
    "    model.eval()\n",
    "    all_candidates = []\n",
    "    all_references = []\n",
    "    \n",
    "    with torch.no_grad():\n",
    "        for src, tgt in data_loader:\n",
    "            src = src.to(device)\n",
    "            \n",
    "            # Create masks for source\n",
    "            src_padding_mask = (src != dataset.pad_idx).unsqueeze(1).unsqueeze(2)\n",
    "            src_padding_mask = src_padding_mask.to(device)\n",
    "            \n",
    "            # Initialize target sequence with BOS token\n",
    "            tgt_seq = torch.ones(src.size(0), 1, dtype=torch.long, device=device) * dataset.bos_idx\n",
    "            \n",
    "            # Generate translation one token at a time\n",
    "            max_length = 50  # Maximum translation length\n",
    "            \n",
    "            for _ in range(max_length): # Limit prediction length\n",
    "                tgt_padding_mask = (tgt_seq != dataset.pad_idx).unsqueeze(1).unsqueeze(2) # (batch_size, 1, 1, tgt_len)\n",
    "                tgt_sub_mask = torch.triu(torch.ones((tgt_seq.size(1), tgt_seq.size(1))), diagonal=1).bool() # (tgt_len, tgt_len)\n",
    "                \n",
    "                tgt_padding_mask = tgt_padding_mask.to(device)\n",
    "                tgt_sub_mask = tgt_sub_mask.to(device)\n",
    "                # Forward pass\n",
    "                output = model(\n",
    "                    src,\n",
    "                    tgt_seq,\n",
    "                    src_padding_mask,\n",
    "                    tgt_padding_mask,\n",
    "                    tgt_sub_mask\n",
    "                )\n",
    "                \n",
    "                # Get next token prediction\n",
    "                next_token = output[:, -1, :].argmax(dim=1, keepdim=True)\n",
    "                tgt_seq = torch.cat([tgt_seq, next_token], dim=1)\n",
    "                \n",
    "                # Stop if all sequences have generated EOS token\n",
    "                if (next_token == dataset.eos_idx).all():\n",
    "                    break\n",
    "            \n",
    "            # Convert ids back to tokens\n",
    "            for pred_ids, true_ids in zip(tgt_seq, tgt):\n",
    "                # Remove special tokens and get predicted tokens\n",
    "                pred_tokens = convert_ids_to_tokens(\n",
    "                    pred_ids[1:],  # Remove BOS token\n",
    "                    dataset.tgt_vocab\n",
    "                )\n",
    "                # Stop at EOS token if present\n",
    "                if dataset.eos_idx in pred_ids:\n",
    "                    eos_idx = pred_ids.tolist().index(dataset.eos_idx)\n",
    "                    pred_tokens = pred_tokens[:eos_idx]\n",
    "                \n",
    "                # Remove special tokens and get reference tokens\n",
    "                true_tokens = convert_ids_to_tokens(\n",
    "                    true_ids[1:-1],  # Remove BOS and EOS tokens\n",
    "                    dataset.tgt_vocab\n",
    "                )\n",
    "                \n",
    "                all_candidates.append(pred_tokens)\n",
    "                all_references.append([true_tokens])  # BLEU expects list of lists for references\n",
    "    \n",
    "    # Calculate BLEU score\n",
    "    bleu = bleu_score(all_candidates, all_references)\n",
    "    return bleu\n",
    "\n",
    "class PositionalEncoding(nn.Module):\n",
    "    ''' Positional encoding for transformer '''\n",
    "    def __init__(self, d_model, max_seq_length=100):\n",
    "        super().__init__()\n",
    "        pe = torch.zeros(max_seq_length, d_model) # (max_seq_length, d_model)\n",
    "        position = torch.arange(0, max_seq_length, dtype=torch.float).unsqueeze(1) # (max_seq_length, 1)\n",
    "        div_term = torch.exp(torch.arange(0, d_model, 2).float() * (-math.log(10000.0) / d_model)) # (d_model/2)\n",
    "        pe[:, 0::2] = torch.sin(position * div_term)\n",
    "        pe[:, 1::2] = torch.cos(position * div_term)\n",
    "        pe = pe.unsqueeze(0)\n",
    "        self.register_buffer('pe', pe) \n",
    "\n",
    "    def forward(self, x):\n",
    "        return x + self.pe[:, :x.size(1)]\n",
    "\n",
    "class MultiheadAttention(nn.Module):\n",
    "    def __init__(self, embed_dim=512, num_heads=8, dropout=0.1):\n",
    "        ''' Multi-head attention module '''\n",
    "        super().__init__()\n",
    "        assert embed_dim % num_heads == 0, \"embed_dim must be divisible by num_heads\"\n",
    "        \n",
    "        self.embed_dim = embed_dim\n",
    "        self.num_heads = num_heads\n",
    "        self.head_dim = embed_dim // num_heads\n",
    "        self.scale = math.sqrt(self.head_dim)\n",
    "        \n",
    "        self.q_proj = nn.Linear(embed_dim, embed_dim)\n",
    "        self.k_proj = nn.Linear(embed_dim, embed_dim)\n",
    "        self.v_proj = nn.Linear(embed_dim, embed_dim)\n",
    "        self.out_proj = nn.Linear(embed_dim, embed_dim)\n",
    "        self.dropout = nn.Dropout(dropout)\n",
    "\n",
    "    def forward(self, query, key, value, mask=None):\n",
    "        ''' Forward pass of multi-head attention '''\n",
    "        batch_size = query.size(0)\n",
    "        \n",
    "        q = self.q_proj(query)\n",
    "        k = self.k_proj(key)\n",
    "        v = self.v_proj(value)\n",
    "        \n",
    "        q = q.view(batch_size, -1, self.num_heads, self.head_dim).transpose(1, 2) # (batch_size, num_heads, seq_len, head_dim)\n",
    "        k = k.view(batch_size, -1, self.num_heads, self.head_dim).transpose(1, 2)\n",
    "        v = v.view(batch_size, -1, self.num_heads, self.head_dim).transpose(1, 2)\n",
    "        # Compute scaled dot-product attention\n",
    "        scores = torch.matmul(q, k.transpose(-2, -1)) / self.scale\n",
    "        # Apply mask\n",
    "        if mask is not None:\n",
    "            scores = scores.masked_fill(mask == 0, float('-inf'))\n",
    "        # Compute attention weights\n",
    "        attention_weights = F.softmax(scores, dim=-1)\n",
    "        attention_weights = self.dropout(attention_weights)\n",
    "        \n",
    "        out = torch.matmul(attention_weights, v) # (batch_size, num_heads, seq_len, head_dim)\n",
    "        out = out.transpose(1, 2).contiguous().view(batch_size, -1, self.embed_dim)\n",
    "        out = self.out_proj(out)\n",
    "        \n",
    "        return out, attention_weights\n",
    "\n",
    "class TransformerEncoderLayer(nn.Module):\n",
    "    ''' Single layer of transformer encoder '''\n",
    "    def __init__(self, embed_dim=512, num_heads=8, ff_dim=2048, dropout=0.1):\n",
    "        super().__init__()\n",
    "        self.self_attn = MultiheadAttention(embed_dim, num_heads, dropout)\n",
    "        self.feed_forward = nn.Sequential(\n",
    "            nn.Linear(embed_dim, ff_dim),\n",
    "            nn.ReLU(),\n",
    "            nn.Dropout(dropout),\n",
    "            nn.Linear(ff_dim, embed_dim)\n",
    "        )\n",
    "        self.norm1 = nn.LayerNorm(embed_dim)\n",
    "        self.norm2 = nn.LayerNorm(embed_dim)\n",
    "        self.dropout = nn.Dropout(dropout)\n",
    "\n",
    "    def forward(self, x, mask=None):\n",
    "        attn_output, _ = self.self_attn(x, x, x, mask) # (batch_size, seq_len, embed_dim)\n",
    "        x = self.norm1(x + self.dropout(attn_output)) # Residual connection and layer normalization\n",
    "        ff_output = self.feed_forward(x) # (batch_size, seq_len, embed_dim)\n",
    "        x = self.norm2(x + self.dropout(ff_output))\n",
    "        return x\n",
    "\n",
    "class TransformerDecoderLayer(nn.Module):\n",
    "    ''' Single layer of transformer decoder '''\n",
    "    def __init__(self, embed_dim=512, num_heads=8, ff_dim=2048, dropout=0.1):\n",
    "        super().__init__()\n",
    "        self.self_attn = MultiheadAttention(embed_dim, num_heads, dropout) # Self attention\n",
    "        self.cross_attn = MultiheadAttention(embed_dim, num_heads, dropout) # Cross attention\n",
    "        # Feed forward\n",
    "        self.feed_forward = nn.Sequential(\n",
    "            nn.Linear(embed_dim, ff_dim),\n",
    "            nn.ReLU(),\n",
    "            nn.Dropout(dropout),\n",
    "            nn.Linear(ff_dim, embed_dim)\n",
    "        )\n",
    "        self.norm1 = nn.LayerNorm(embed_dim)\n",
    "        self.norm2 = nn.LayerNorm(embed_dim)\n",
    "        self.norm3 = nn.LayerNorm(embed_dim)\n",
    "        self.dropout = nn.Dropout(dropout)\n",
    "\n",
    "    def forward(self, x, enc_output, tgt_padding_mask, tgt_sub_mask, src_padding_mask):\n",
    "        # Self attention\n",
    "        # Combine the padding mask and subsequent mask for self attention\n",
    "        if tgt_padding_mask is not None and tgt_sub_mask is not None:\n",
    "            tgt_mask = tgt_padding_mask & ~tgt_sub_mask\n",
    "        else:\n",
    "            tgt_mask = None\n",
    "            \n",
    "        # Self attention\n",
    "        attn_output, _ = self.self_attn(x, x, x, tgt_mask)\n",
    "        x = self.norm1(x + self.dropout(attn_output))\n",
    "        \n",
    "        # Cross attention\n",
    "        cross_attn_output, _ = self.cross_attn(x, enc_output, enc_output, src_padding_mask)\n",
    "        x = self.norm2(x + self.dropout(cross_attn_output))\n",
    "        \n",
    "        # Feed forward\n",
    "        ff_output = self.feed_forward(x)\n",
    "        x = self.norm3(x + self.dropout(ff_output))\n",
    "        \n",
    "        return x\n",
    "\n",
    "class Transformer(nn.Module):\n",
    "    ''' Transformer model '''\n",
    "    def __init__(self, src_vocab_size, tgt_vocab_size, embed_dim=512, num_heads=8,\n",
    "                 num_encoder_layers=6, num_decoder_layers=6, ff_dim=2048, dropout=0.1):\n",
    "        super().__init__()\n",
    "        \n",
    "        self.encoder_embedding = nn.Embedding(src_vocab_size, embed_dim, padding_idx=0) # Source embedding\n",
    "        self.decoder_embedding = nn.Embedding(tgt_vocab_size, embed_dim, padding_idx=0) # Target embedding\n",
    "        self.positional_encoding = PositionalEncoding(embed_dim)\n",
    "        # Transformer encoder\n",
    "        self.encoder_layers = nn.ModuleList([\n",
    "            TransformerEncoderLayer(embed_dim, num_heads, ff_dim, dropout)\n",
    "            for _ in range(num_encoder_layers)\n",
    "        ])\n",
    "        # Transformer decoder\n",
    "        self.decoder_layers = nn.ModuleList([\n",
    "            TransformerDecoderLayer(embed_dim, num_heads, ff_dim, dropout)\n",
    "            for _ in range(num_decoder_layers)\n",
    "        ])\n",
    "        \n",
    "        self.output_layer = nn.Linear(embed_dim, tgt_vocab_size)\n",
    "        self.dropout = nn.Dropout(dropout)\n",
    "\n",
    "    def forward(self, src, tgt, src_padding_mask, tgt_padding_mask, tgt_sub_mask):\n",
    "        # Embedding and positional encoding\n",
    "        src_embed = self.dropout(self.positional_encoding(self.encoder_embedding(src)))\n",
    "        tgt_embed = self.dropout(self.positional_encoding(self.decoder_embedding(tgt)))\n",
    "        \n",
    "        # Encoder\n",
    "        enc_output = src_embed\n",
    "        for enc_layer in self.encoder_layers:\n",
    "            enc_output = enc_layer(enc_output, src_padding_mask)\n",
    "        \n",
    "        # Decoder\n",
    "        dec_output = tgt_embed\n",
    "        for dec_layer in self.decoder_layers:\n",
    "            dec_output = dec_layer(\n",
    "                dec_output,\n",
    "                enc_output,\n",
    "                tgt_padding_mask,\n",
    "                tgt_sub_mask,\n",
    "                src_padding_mask\n",
    "            )\n",
    "        \n",
    "        output = self.output_layer(dec_output)\n",
    "        return output\n",
    "\n",
    "class TranslationDataset:\n",
    "    ''' Multi30k Translation dataset '''\n",
    "    def __init__(self, split='train', src_vocab=None, tgt_vocab=None):\n",
    "        self.spacy_de = spacy.load('de_core_news_sm')\n",
    "        self.spacy_en = spacy.load('en_core_web_sm')\n",
    "        \n",
    "        self.src_tokenizer = lambda text: [tok.text.lower() for tok in self.spacy_de.tokenizer(text)]\n",
    "        self.tgt_tokenizer = lambda text: [tok.text.lower() for tok in self.spacy_en.tokenizer(text)]\n",
    "        \n",
    "        self.data = list(Multi30k(split=split, language_pair=('de', 'en')))\n",
    "        \n",
    "        # Define special tokens\n",
    "        self.special_tokens = ['<unk>', '<pad>', '<bos>', '<eos>']\n",
    "        \n",
    "        # Use provided vocabularies for validation set\n",
    "        if split != 'train' and src_vocab is not None and tgt_vocab is not None:\n",
    "            self.src_vocab = src_vocab\n",
    "            self.tgt_vocab = tgt_vocab\n",
    "        else:\n",
    "            # Build source vocabulary\n",
    "            src_tokens = []\n",
    "            for src_text, _ in self.data:\n",
    "                src_tokens.extend(self.src_tokenizer(src_text))\n",
    "            self.src_vocab = {token: idx + len(self.special_tokens) \n",
    "                             for idx, token in enumerate(sorted(set(src_tokens)))}\n",
    "            # Add special tokens to source vocabulary\n",
    "            for idx, token in enumerate(self.special_tokens):\n",
    "                self.src_vocab[token] = idx\n",
    "                \n",
    "            # Build target vocabulary\n",
    "            tgt_tokens = []\n",
    "            for _, tgt_text in self.data:\n",
    "                tgt_tokens.extend(self.tgt_tokenizer(tgt_text))\n",
    "            self.tgt_vocab = {token: idx + len(self.special_tokens) \n",
    "                             for idx, token in enumerate(sorted(set(tgt_tokens)))}\n",
    "            # Add special tokens to target vocabulary\n",
    "            for idx, token in enumerate(self.special_tokens):\n",
    "                self.tgt_vocab[token] = idx\n",
    "        \n",
    "        # Store special token indices\n",
    "        self.pad_idx = self.src_vocab['<pad>']\n",
    "        self.bos_idx = self.src_vocab['<bos>']\n",
    "        self.eos_idx = self.src_vocab['<eos>']\n",
    "        self.unk_idx = self.src_vocab['<unk>']\n",
    "        \n",
    "        self.src_vocab_size = len(self.src_vocab)\n",
    "        self.tgt_vocab_size = len(self.tgt_vocab)\n",
    "    \n",
    "    def __len__(self):\n",
    "        return len(self.data)\n",
    "\n",
    "    def __getitem__(self, idx):\n",
    "        src_text, tgt_text = self.data[idx]\n",
    "    \n",
    "        # Tokenize and convert to indices, handling unknown tokens\n",
    "        src_tokens = ['<bos>'] + self.src_tokenizer(src_text) + ['<eos>']\n",
    "        tgt_tokens = ['<bos>'] + self.tgt_tokenizer(tgt_text) + ['<eos>']\n",
    "    \n",
    "        # Convert tokens to indices, using <unk> for unknown tokens\n",
    "        src_ids = [self.src_vocab.get(token, self.unk_idx) for token in src_tokens]\n",
    "        tgt_ids = [self.tgt_vocab.get(token, self.unk_idx) for token in tgt_tokens]\n",
    "    \n",
    "        return torch.tensor(src_ids), torch.tensor(tgt_ids)\n",
    "\n",
    "def create_mask(src, tgt, pad_idx):\n",
    "    ''' Create padding and subsequent masks '''\n",
    "    # Source padding mask\n",
    "    src_padding_mask = (src != pad_idx).unsqueeze(1).unsqueeze(2)  # (batch_size, 1, 1, src_len)\n",
    "    \n",
    "    # Target padding mask\n",
    "    tgt_padding_mask = (tgt != pad_idx).unsqueeze(1).unsqueeze(2)  # (batch_size, 1, 1, tgt_len)\n",
    "    \n",
    "    # Target subsequent mask (causal mask)\n",
    "    tgt_len = tgt.size(1)\n",
    "    tgt_sub_mask = torch.triu(torch.ones((tgt_len, tgt_len)), diagonal=1).bool()\n",
    "    tgt_sub_mask = tgt_sub_mask.to(tgt.device)\n",
    "    \n",
    "    return src_padding_mask, tgt_padding_mask, tgt_sub_mask\n",
    "\n",
    "def collate_fn(batch):\n",
    "    ''' Pad sequences in batch to same length '''\n",
    "    src_batch, tgt_batch = [], []\n",
    "    for src_sample, tgt_sample in batch: # Tuple of (src, tgt)\n",
    "        src_batch.append(src_sample)\n",
    "        tgt_batch.append(tgt_sample)\n",
    "    \n",
    "    # Pad sequences in batch to same length\n",
    "    src_batch = pad_sequence(src_batch, padding_value=0, batch_first=True)\n",
    "    tgt_batch = pad_sequence(tgt_batch, padding_value=0, batch_first=True)\n",
    "    \n",
    "    return src_batch, tgt_batch\n",
    "\n",
    "class LabelSmoothingLoss(nn.Module):\n",
    "    ''' Label smoothing loss '''\n",
    "    def __init__(self, smoothing=0.1, ignore_index=None):\n",
    "        super().__init__()\n",
    "        self.smoothing = smoothing # Smoothing factor\n",
    "        self.ignore_index = ignore_index # Index to ignore in loss calculation\n",
    "        self.confidence = 1.0 - smoothing   # Confidence in true labels\n",
    "        \n",
    "    def forward(self, pred, target):\n",
    "        \"\"\"\n",
    "        pred (batch_size * seq_len, vocab_size)\n",
    "        target (batch_size * seq_len)\n",
    "        \"\"\"\n",
    "        if self.ignore_index is not None:\n",
    "            # Create mask for ignored indices (like padding)\n",
    "            non_pad_mask = (target != self.ignore_index)\n",
    "            target = target[non_pad_mask]\n",
    "            pred = pred[non_pad_mask]\n",
    "            \n",
    "            if len(target) == 0:  # All padding\n",
    "                return torch.tensor(0.0, device=pred.device)\n",
    "        \n",
    "        vocab_size = pred.size(-1) # Number of classes\n",
    "        \n",
    "        # KL divergence between pred and smoothed target\n",
    "        with torch.no_grad():\n",
    "            # Create smoothed target distribution\n",
    "            true_dist = torch.zeros_like(pred) # (batch_size * seq_len, vocab_size)\n",
    "            true_dist.fill_(self.smoothing / (vocab_size - 1)) # Fill with smoothing factor\n",
    "            true_dist.scatter_(1, target.unsqueeze(1), self.confidence) # Fill true values with confidence\n",
    "        # Compute KL divergence\n",
    "        kl_div = F.kl_div(\n",
    "            F.log_softmax(pred, dim=-1),\n",
    "            true_dist,\n",
    "            reduction='sum'\n",
    "        )\n",
    "        \n",
    "        return kl_div / target.size(0)  # Normalize by batch size\n",
    "    \n",
    "def train_model(model, train_loader, optimizer, criterion, device, pad_idx):\n",
    "    ''' Train the model for one epoch '''\n",
    "    model.train()\n",
    "    total_loss = 0\n",
    "    \n",
    "    for batch_idx, (src, tgt) in enumerate(tqdm(train_loader)):\n",
    "        src, tgt = src.to(device), tgt.to(device)\n",
    "        \n",
    "        # Create masks\n",
    "        src_padding_mask, tgt_padding_mask, tgt_sub_mask = create_mask(src, tgt[:, :-1], pad_idx)\n",
    "        src_padding_mask = src_padding_mask.to(device)\n",
    "        tgt_padding_mask = tgt_padding_mask.to(device)\n",
    "        tgt_sub_mask = tgt_sub_mask.to(device)\n",
    "        \n",
    "        # Forward pass\n",
    "        optimizer.zero_grad()\n",
    "        output = model(\n",
    "            src,\n",
    "            tgt[:, :-1],\n",
    "            src_padding_mask,\n",
    "            tgt_padding_mask,\n",
    "            tgt_sub_mask\n",
    "        )\n",
    "        \n",
    "        # Calculate loss with label smoothing\n",
    "        loss = criterion(\n",
    "            output.contiguous().view(-1, output.size(-1)),\n",
    "            tgt[:, 1:].contiguous().view(-1)\n",
    "        )\n",
    "        \n",
    "        # Backward pass\n",
    "        loss.backward()\n",
    "        torch.nn.utils.clip_grad_norm_(model.parameters(), max_norm=1.0)\n",
    "        optimizer.step()\n",
    "        \n",
    "        total_loss += loss.item()\n",
    "        \n",
    "        if batch_idx % 100 == 0:\n",
    "            print(f'Batch {batch_idx}, Loss: {loss.item():.4f}')\n",
    "    \n",
    "    return total_loss / len(train_loader)\n",
    "\n",
    "def evaluate_model(model, val_loader, criterion, device, pad_idx,dataset):\n",
    "    ''' Evaluate the model on the validation set '''\n",
    "    model.eval()\n",
    "    total_loss = 0\n",
    "    \n",
    "    with torch.no_grad(): # Disable gradient tracking\n",
    "        for src, tgt in tqdm(val_loader, desc='Evaluation'): # Validation loop\n",
    "            src, tgt = src.to(device), tgt.to(device)\n",
    "            \n",
    "            src_padding_mask, tgt_padding_mask, tgt_sub_mask = create_mask(src, tgt[:, :-1], pad_idx) # Create masks\n",
    "            src_padding_mask = src_padding_mask.to(device)\n",
    "            tgt_padding_mask = tgt_padding_mask.to(device)\n",
    "            tgt_sub_mask = tgt_sub_mask.to(device)\n",
    "            output = model(\n",
    "                src,\n",
    "                tgt[:, :-1],\n",
    "                src_padding_mask,\n",
    "                tgt_padding_mask,\n",
    "                tgt_sub_mask\n",
    "            )\n",
    "\n",
    "            loss = criterion(\n",
    "                output.contiguous().view(-1, output.size(-1)),\n",
    "                tgt[:, 1:].contiguous().view(-1)\n",
    "            )\n",
    "            total_loss += loss.item()\n",
    "    val_loss = total_loss / len(val_loader)\n",
    "    return  val_loss, None\n",
    "\n",
    "def train_and_evaluate(model, train_loader, val_loader, optimizer, criterion, scheduler, \n",
    "                      device, train_dataset, num_epochs=10):\n",
    "    ''' Train and evaluate the model called to perform the above functions at once'''\n",
    "    best_val_loss = float('inf')\n",
    "    best_bleu = 0.0\n",
    "    \n",
    "    for epoch in range(num_epochs): # Epoch loop\n",
    "        # Training phase\n",
    "        train_loss = train_model(model, train_loader, optimizer, criterion, device, train_dataset.pad_idx)\n",
    "        print(f'Epoch: {epoch+1}, Train Loss: {train_loss:.4f}')\n",
    "        \n",
    "        # Validation phase\n",
    "        val_loss, bleu = evaluate_model(model, val_loader, criterion, device, train_dataset.pad_idx,train_dataset)\n",
    "        print(f'Validation Loss: {val_loss:.4f}')\n",
    "        \n",
    "        # Calculate BLEU score\n",
    "        bleu = calculate_bleu(model, val_loader, train_dataset, device)\n",
    "        print(f'BLEU Score: {bleu:.4f}')\n",
    "        \n",
    "        # Update learning rate\n",
    "        scheduler.step()\n",
    "        \n",
    "        # Save best model\n",
    "        if val_loss < best_val_loss:\n",
    "            best_val_loss = val_loss\n",
    "            best_bleu = bleu\n",
    "            torch.save({\n",
    "                'epoch': epoch,\n",
    "                'model_state_dict': model.state_dict(),\n",
    "                'optimizer_state_dict': optimizer.state_dict(),\n",
    "                'val_loss': val_loss,\n",
    "                'bleu': bleu\n",
    "            }, 'best_model.pt')\n",
    "            \n",
    "        print(f'Best Validation Loss: {best_val_loss:.4f}, Best BLEU Score: {best_bleu:.4f}\\n')\n",
    "\n",
    "\n",
    "# Usage example\n",
    "if __name__ == '__main__':\n",
    "    device = torch.device('cuda' if torch.cuda.is_available() else 'cpu')\n",
    "    \n",
    "    # Create datasets\n",
    "    train_dataset = TranslationDataset(split='train')\n",
    "    # Create validation dataset with training vocabulary\n",
    "    val_dataset = TranslationDataset(\n",
    "        split='valid',\n",
    "        src_vocab=train_dataset.src_vocab,\n",
    "        tgt_vocab=train_dataset.tgt_vocab\n",
    "    )\n",
    "    \n",
    "    # Create dataloaders\n",
    "    train_loader = DataLoader(\n",
    "        train_dataset,\n",
    "        batch_size=32,\n",
    "        shuffle=True,\n",
    "        collate_fn=collate_fn\n",
    "    )\n",
    "    val_loader = DataLoader(\n",
    "        val_dataset,\n",
    "        batch_size=32,\n",
    "        collate_fn=collate_fn\n",
    "    )\n",
    "    print('Building model')\n",
    "    # Initialize model\n",
    "    model = Transformer(\n",
    "        src_vocab_size=len(train_dataset.src_vocab),\n",
    "        tgt_vocab_size=len(train_dataset.tgt_vocab),\n",
    "        embed_dim=512,\n",
    "        num_heads=1,\n",
    "        num_encoder_layers=2,\n",
    "        num_decoder_layers=2\n",
    "    ).to(device)\n",
    "\n",
    "     # Training setup\n",
    "    criterion = LabelSmoothingLoss(smoothing=0.1, ignore_index=train_dataset.pad_idx)\n",
    "    d_model = 512  # embedding dimension\n",
    "    optimizer = torch.optim.Adam(model.parameters(), lr=0.0001, betas=(0.9, 0.98))\n",
    "    \n",
    "    # Learning rate scheduler with warmup\n",
    "    class WarmupScheduler:\n",
    "        ''' Learning rate scheduler with warmup '''\n",
    "        def __init__(self, optimizer, d_model, warmup_steps=4000):\n",
    "            self.optimizer = optimizer\n",
    "            self.d_model = d_model\n",
    "            self.warmup_steps = warmup_steps\n",
    "            self.current_step = 0\n",
    "            \n",
    "        def step(self):\n",
    "            ''' Update learning rate and increment step '''\n",
    "            self.current_step += 1\n",
    "            lr = self.get_lr()\n",
    "            for param_group in self.optimizer.param_groups:\n",
    "                param_group['lr'] = lr\n",
    "        \n",
    "        def get_lr(self):\n",
    "            step = self.current_step\n",
    "            return self.d_model ** (-0.5) * min(step ** (-0.5), step * self.warmup_steps ** (-1.5))\n",
    "    \n",
    "    scheduler = WarmupScheduler(optimizer, d_model)\n",
    "\n",
    "    print('Training model')\n",
    "    train_and_evaluate(\n",
    "        model, \n",
    "        train_loader, \n",
    "        val_loader, \n",
    "        optimizer, \n",
    "        criterion, \n",
    "        scheduler,\n",
    "        device, \n",
    "        train_dataset,\n",
    "        num_epochs=20\n",
    "    )"
   ]
  },
  {
   "cell_type": "code",
   "execution_count": null,
   "metadata": {},
   "outputs": [
    {
     "name": "stdout",
     "output_type": "stream",
     "text": [
      "Using device: cpu\n",
      "Loaded model from epoch 19 with validation loss 1.3895 and BLEU score 0.1137\n",
      "\n",
      "Running translations:\n",
      "--------------------------------------------------\n",
      "\n",
      "Example 1:\n",
      "Input (German): Eine Frau spielt Gitarre im Park.\n",
      "Output (English): a woman is playing guitar in the park . <eos>\n",
      "\n",
      "Example 2:\n",
      "Input (German): Der Hund läuft am Strand.\n",
      "Output (English): the dog is running on the beach . <eos>\n",
      "\n",
      "Example 3:\n",
      "Input (German): Kinder spielen Fußball auf dem Feld.\n",
      "Output (English): children playing soccer on the field . <eos>\n",
      "\n",
      "Inference complete!\n"
     ]
    }
   ],
   "source": [
    "''' Functions to perform inference on example sentences by loading the trained model'''\n",
    "def translate(model, sentence, dataset, device, max_length=50):\n",
    "    \"\"\"Translate a single sentence\"\"\"\n",
    "    model.eval()\n",
    "    \n",
    "    # Tokenize and convert to indices\n",
    "    tokens = ['<bos>'] + dataset.src_tokenizer(sentence) + ['<eos>']\n",
    "    src_indices = [dataset.src_vocab.get(token, dataset.unk_idx) for token in tokens]\n",
    "    src = torch.tensor([src_indices]).to(device)  # Add batch dimension\n",
    "    \n",
    "    # Create source padding mask\n",
    "    src_padding_mask = (src != dataset.pad_idx).unsqueeze(1).unsqueeze(2)\n",
    "    src_padding_mask = src_padding_mask.to(device)\n",
    "    \n",
    "    # Initialize target sequence\n",
    "    tgt_seq = torch.ones(1, 1, dtype=torch.long, device=device) * dataset.bos_idx\n",
    "    \n",
    "    with torch.no_grad():\n",
    "        for _ in range(max_length):\n",
    "            # Create target masks\n",
    "            tgt_padding_mask = (tgt_seq != dataset.pad_idx).unsqueeze(1).unsqueeze(2)\n",
    "            tgt_sub_mask = torch.triu(torch.ones((tgt_seq.size(1), tgt_seq.size(1))), diagonal=1).bool()\n",
    "            \n",
    "            tgt_padding_mask = tgt_padding_mask.to(device)\n",
    "            tgt_sub_mask = tgt_sub_mask.to(device)\n",
    "            \n",
    "            # Get model predictions\n",
    "            output = model(\n",
    "                src,\n",
    "                tgt_seq,\n",
    "                src_padding_mask,\n",
    "                tgt_padding_mask,\n",
    "                tgt_sub_mask\n",
    "            )\n",
    "            \n",
    "            # Get next token\n",
    "            next_token = output[:, -1, :].argmax(dim=1, keepdim=True)\n",
    "            tgt_seq = torch.cat([tgt_seq, next_token], dim=1)\n",
    "            \n",
    "            # Stop if EOS token is generated\n",
    "            if next_token.item() == dataset.eos_idx:\n",
    "                break\n",
    "    \n",
    "    # Convert indices to tokens\n",
    "    generated_tokens = convert_ids_to_tokens(tgt_seq[0][1:], dataset.tgt_vocab)  # Remove BOS\n",
    "    \n",
    "    # Stop at EOS if present\n",
    "    if dataset.eos_idx in tgt_seq[0]:\n",
    "        eos_idx = tgt_seq[0].tolist().index(dataset.eos_idx)\n",
    "        generated_tokens = generated_tokens[:eos_idx]\n",
    "    \n",
    "    return ' '.join(generated_tokens)\n",
    "\n",
    "def run_inference():\n",
    "    # Set device\n",
    "    device = torch.device('cuda' if torch.cuda.is_available() else 'cpu')\n",
    "    print(f\"Using device: {device}\")\n",
    "    \n",
    "    # Create dataset instance to get vocabulary and tokenizers\n",
    "    dataset = TranslationDataset(split='train')\n",
    "    \n",
    "    # Initialize model with the same parameters as training\n",
    "    model = Transformer(\n",
    "        src_vocab_size=len(dataset.src_vocab),\n",
    "        tgt_vocab_size=len(dataset.tgt_vocab),\n",
    "        embed_dim=512,\n",
    "        num_heads=1,\n",
    "        num_encoder_layers=2,\n",
    "        num_decoder_layers=2\n",
    "    ).to(device)\n",
    "    \n",
    "    # Load saved model\n",
    "    try:\n",
    "        checkpoint = torch.load('best_model.pt', map_location=device)\n",
    "        model.load_state_dict(checkpoint['model_state_dict'])\n",
    "        print(f\"Loaded model from epoch {checkpoint['epoch']} with validation loss {checkpoint['val_loss']:.4f} and BLEU score {checkpoint['bleu']:.4f}\")\n",
    "    except FileNotFoundError:\n",
    "        print(\"No saved model found. Please train the model first.\")\n",
    "        return\n",
    "    \n",
    "    # Example German sentences for translation\n",
    "    test_sentences = [\n",
    "        \"Eine Frau spielt Gitarre im Park.\",  # A woman plays guitar in the park\n",
    "        \"Der Hund läuft am Strand.\",          # The dog runs on the beach\n",
    "        \"Kinder spielen Fußball auf dem Feld.\" # Children play soccer on the field\n",
    "    ]\n",
    "    \n",
    "    print(\"\\nRunning translations:\")\n",
    "    print(\"-\" * 50)\n",
    "    \n",
    "    for i, sentence in enumerate(test_sentences, 1):\n",
    "        print(f\"\\nExample {i}:\")\n",
    "        print(f\"Input (German): {sentence}\")\n",
    "        translation = translate(model, sentence, dataset, device)\n",
    "        print(f\"Output (English): {translation}\")\n",
    "    \n",
    "    print(\"\\nInference complete!\")\n",
    "\n",
    "run_inference()"
   ]
  },
  {
   "cell_type": "code",
   "execution_count": null,
   "metadata": {},
   "outputs": [],
   "source": []
  },
  {
   "cell_type": "code",
   "execution_count": 2,
   "metadata": {},
   "outputs": [
    {
     "name": "stdout",
     "output_type": "stream",
     "text": [
      "/var/folders/rv/fj66wyxd1tzgh8y6tktcmty40000gn/T/ipykernel_84426/4216180982.py:4: UserWarning: \n",
      "/!\\ IMPORTANT WARNING ABOUT TORCHTEXT STATUS /!\\ \n",
      "Torchtext is deprecated and the last released version will be 0.18 (this one). You can silence this warning by calling the following at the beginnign of your scripts: `import torchtext; torchtext.disable_torchtext_deprecation_warning()`\n",
      "  warnings.warn(torchtext._TORCHTEXT_DEPRECATION_MSG)\n",
      "Building model\n",
      "Training model\n",
      "  0%|          | 1/907 [00:00<11:46,  1.28it/s]Batch 0, Loss: 7.8814\n",
      " 11%|█         | 101/907 [01:05<07:39,  1.75it/s]Batch 100, Loss: 2.8866\n",
      " 22%|██▏       | 201/907 [02:09<06:47,  1.73it/s]Batch 200, Loss: 2.2941\n",
      " 33%|███▎      | 301/907 [03:07<05:26,  1.86it/s]Batch 300, Loss: 1.9137\n",
      " 44%|████▍     | 401/907 [04:13<04:46,  1.77it/s]Batch 400, Loss: 1.6076\n",
      " 55%|█████▌    | 501/907 [05:14<03:55,  1.73it/s]Batch 500, Loss: 1.7115\n",
      " 66%|██████▋   | 601/907 [06:18<03:15,  1.56it/s]Batch 600, Loss: 1.8014\n",
      " 77%|███████▋  | 701/907 [07:22<02:15,  1.52it/s]Batch 700, Loss: 1.4891\n",
      " 88%|████████▊ | 801/907 [08:20<00:57,  1.84it/s]Batch 800, Loss: 1.5054\n",
      " 99%|█████████▉| 901/907 [09:20<00:03,  1.67it/s]Batch 900, Loss: 2.1690\n",
      "100%|██████████| 907/907 [09:23<00:00,  1.61it/s]\n",
      "Epoch: 1, Train Loss: 1.9606\n",
      "Evaluation: 100%|██████████| 32/32 [00:05<00:00,  5.60it/s]\n",
      "Validation Loss: 1.5174\n",
      "BLEU Score: 0.0931\n",
      "Best Validation Loss: 1.5174, Best BLEU Score: 0.0931\n",
      "\n",
      "  0%|          | 1/907 [00:00<08:39,  1.74it/s]Batch 0, Loss: 1.9306\n",
      " 11%|█         | 101/907 [01:01<09:15,  1.45it/s]Batch 100, Loss: 1.7882\n",
      " 22%|██▏       | 201/907 [02:02<06:47,  1.73it/s]Batch 200, Loss: 1.6603\n",
      " 33%|███▎      | 301/907 [03:01<05:23,  1.87it/s]Batch 300, Loss: 1.6368\n",
      " 44%|████▍     | 401/907 [03:58<05:51,  1.44it/s]Batch 400, Loss: 0.9690\n",
      " 55%|█████▌    | 501/907 [04:55<03:48,  1.78it/s]Batch 500, Loss: 1.3225\n",
      " 66%|██████▋   | 601/907 [05:52<03:08,  1.62it/s]Batch 600, Loss: 1.4841\n",
      " 77%|███████▋  | 701/907 [17:50<5:36:20, 97.96s/it]  Batch 700, Loss: 1.3736\n",
      " 88%|████████▊ | 801/907 [18:53<01:00,  1.75it/s]  Batch 800, Loss: 1.3700\n",
      " 99%|█████████▉| 901/907 [19:53<00:03,  1.53it/s]Batch 900, Loss: 1.6893\n",
      "100%|██████████| 907/907 [19:56<00:00,  1.32s/it]\n",
      "Epoch: 2, Train Loss: 1.5549\n",
      "Evaluation: 100%|██████████| 32/32 [00:05<00:00,  5.65it/s]\n",
      "Validation Loss: 1.5080\n",
      "BLEU Score: 0.0977\n",
      "Best Validation Loss: 1.5080, Best BLEU Score: 0.0977\n",
      "\n",
      "  0%|          | 1/907 [00:00<14:42,  1.03it/s]Batch 0, Loss: 1.2547\n",
      " 11%|█         | 101/907 [01:03<08:12,  1.64it/s]Batch 100, Loss: 1.4959\n",
      " 22%|██▏       | 201/907 [02:07<07:16,  1.62it/s]Batch 200, Loss: 1.5129\n",
      " 33%|███▎      | 301/907 [03:12<05:55,  1.70it/s]Batch 300, Loss: 1.6984\n",
      " 44%|████▍     | 401/907 [04:12<04:52,  1.73it/s]Batch 400, Loss: 1.4501\n",
      " 55%|█████▌    | 501/907 [05:11<04:16,  1.58it/s]Batch 500, Loss: 1.3150\n",
      " 66%|██████▋   | 601/907 [06:10<02:51,  1.79it/s]Batch 600, Loss: 1.3744\n",
      " 77%|███████▋  | 701/907 [07:10<02:09,  1.59it/s]Batch 700, Loss: 1.5563\n",
      " 88%|████████▊ | 801/907 [08:09<01:07,  1.56it/s]Batch 800, Loss: 1.7172\n",
      " 99%|█████████▉| 901/907 [09:11<00:03,  1.82it/s]Batch 900, Loss: 1.7579\n",
      "100%|██████████| 907/907 [09:14<00:00,  1.63it/s]\n",
      "Epoch: 3, Train Loss: 1.5479\n",
      "Evaluation: 100%|██████████| 32/32 [00:05<00:00,  5.35it/s]\n",
      "Validation Loss: 1.5013\n",
      "BLEU Score: 0.0977\n",
      "Best Validation Loss: 1.5013, Best BLEU Score: 0.0977\n",
      "\n",
      "  0%|          | 1/907 [00:00<10:00,  1.51it/s]Batch 0, Loss: 1.2286\n",
      " 11%|█         | 101/907 [10:01<08:11,  1.64it/s]  Batch 100, Loss: 1.6488\n",
      " 22%|██▏       | 201/907 [11:10<09:05,  1.29it/s]Batch 200, Loss: 1.1292\n",
      " 33%|███▎      | 301/907 [12:08<05:20,  1.89it/s]Batch 300, Loss: 1.8862\n",
      " 44%|████▍     | 401/907 [13:11<05:22,  1.57it/s]Batch 400, Loss: 1.3469\n",
      " 55%|█████▌    | 501/907 [14:14<04:29,  1.50it/s]Batch 500, Loss: 1.5848\n",
      " 66%|██████▋   | 601/907 [18:51<04:17,  1.19it/s]  Batch 600, Loss: 1.7509\n",
      " 77%|███████▋  | 701/907 [19:59<02:05,  1.65it/s]Batch 700, Loss: 1.5266\n",
      " 88%|████████▊ | 801/907 [21:19<01:25,  1.24it/s]Batch 800, Loss: 1.5065\n",
      " 99%|█████████▉| 901/907 [22:44<00:03,  1.66it/s]Batch 900, Loss: 1.6765\n",
      "100%|██████████| 907/907 [22:48<00:00,  1.51s/it]\n",
      "Epoch: 4, Train Loss: 1.5400\n",
      "Evaluation: 100%|██████████| 32/32 [00:06<00:00,  5.06it/s]\n",
      "Validation Loss: 1.4965\n",
      "BLEU Score: 0.0987\n",
      "Best Validation Loss: 1.4965, Best BLEU Score: 0.0987\n",
      "\n",
      "  0%|          | 1/907 [00:00<09:40,  1.56it/s]Batch 0, Loss: 1.9325\n",
      " 11%|█         | 101/907 [01:13<10:07,  1.33it/s]Batch 100, Loss: 1.5213\n",
      " 22%|██▏       | 201/907 [02:33<10:33,  1.11it/s]Batch 200, Loss: 1.6432\n",
      " 33%|███▎      | 301/907 [04:13<11:37,  1.15s/it]Batch 300, Loss: 1.4755\n",
      " 44%|████▍     | 401/907 [06:09<09:46,  1.16s/it]Batch 400, Loss: 1.2124\n",
      " 55%|█████▌    | 501/907 [07:58<05:01,  1.35it/s]Batch 500, Loss: 1.7806\n",
      " 66%|██████▋   | 601/907 [09:25<04:59,  1.02it/s]Batch 600, Loss: 1.6756\n",
      " 77%|███████▋  | 701/907 [10:55<02:40,  1.28it/s]Batch 700, Loss: 1.7039\n",
      " 88%|████████▊ | 801/907 [12:24<01:47,  1.01s/it]Batch 800, Loss: 1.4277\n",
      " 99%|█████████▉| 901/907 [13:57<00:05,  1.06it/s]Batch 900, Loss: 1.5545\n",
      "100%|██████████| 907/907 [14:01<00:00,  1.08it/s]\n",
      "Epoch: 5, Train Loss: 1.5343\n",
      "Evaluation: 100%|██████████| 32/32 [00:08<00:00,  3.79it/s]\n",
      "Validation Loss: 1.4910\n",
      "BLEU Score: 0.1005\n",
      "Best Validation Loss: 1.4910, Best BLEU Score: 0.1005\n",
      "\n",
      "  0%|          | 1/907 [00:00<12:22,  1.22it/s]Batch 0, Loss: 1.8791\n",
      " 11%|█         | 101/907 [01:37<14:16,  1.06s/it]Batch 100, Loss: 1.3101\n",
      " 22%|██▏       | 201/907 [03:12<10:38,  1.11it/s]Batch 200, Loss: 1.5564\n",
      " 33%|███▎      | 301/907 [04:40<08:40,  1.16it/s]Batch 300, Loss: 1.5162\n",
      " 44%|████▍     | 401/907 [06:03<06:52,  1.23it/s]Batch 400, Loss: 1.4008\n",
      " 55%|█████▌    | 501/907 [07:33<06:19,  1.07it/s]Batch 500, Loss: 1.7488\n",
      " 66%|██████▋   | 601/907 [08:57<04:15,  1.20it/s]Batch 600, Loss: 1.3456\n",
      " 77%|███████▋  | 701/907 [10:23<02:52,  1.20it/s]Batch 700, Loss: 1.7707\n",
      " 88%|████████▊ | 801/907 [11:52<01:38,  1.08it/s]Batch 800, Loss: 1.8464\n",
      " 99%|█████████▉| 901/907 [13:19<00:04,  1.24it/s]Batch 900, Loss: 1.8754\n",
      "100%|██████████| 907/907 [13:24<00:00,  1.13it/s]\n",
      "Epoch: 6, Train Loss: 1.5314\n",
      "Evaluation: 100%|██████████| 32/32 [00:08<00:00,  3.63it/s]\n",
      "Validation Loss: 1.4860\n",
      "BLEU Score: 0.0993\n",
      "Best Validation Loss: 1.4860, Best BLEU Score: 0.0993\n",
      "\n",
      "  0%|          | 1/907 [00:00<12:35,  1.20it/s]Batch 0, Loss: 1.2825\n",
      " 11%|█         | 101/907 [01:27<12:57,  1.04it/s]Batch 100, Loss: 1.7907\n",
      " 22%|██▏       | 201/907 [03:23<12:52,  1.09s/it]Batch 200, Loss: 1.4595\n",
      " 33%|███▎      | 301/907 [04:54<08:16,  1.22it/s]Batch 300, Loss: 1.4724\n",
      " 44%|████▍     | 401/907 [06:16<06:03,  1.39it/s]Batch 400, Loss: 1.9371\n",
      " 55%|█████▌    | 501/907 [07:32<05:10,  1.31it/s]Batch 500, Loss: 1.7917\n",
      " 66%|██████▋   | 601/907 [08:48<03:56,  1.30it/s]Batch 600, Loss: 1.7342\n",
      " 77%|███████▋  | 701/907 [10:04<02:34,  1.33it/s]Batch 700, Loss: 1.5315\n",
      " 88%|████████▊ | 801/907 [11:21<01:29,  1.18it/s]Batch 800, Loss: 1.0128\n",
      " 99%|█████████▉| 901/907 [12:37<00:04,  1.21it/s]Batch 900, Loss: 1.3270\n",
      "100%|██████████| 907/907 [12:40<00:00,  1.19it/s]\n",
      "Epoch: 7, Train Loss: 1.5251\n",
      "Evaluation: 100%|██████████| 32/32 [00:07<00:00,  4.45it/s]\n",
      "Validation Loss: 1.4811\n",
      "BLEU Score: 0.1003\n",
      "Best Validation Loss: 1.4811, Best BLEU Score: 0.1003\n",
      "\n",
      "  0%|          | 1/907 [00:00<13:42,  1.10it/s]Batch 0, Loss: 1.2101\n",
      " 11%|█         | 101/907 [01:21<11:28,  1.17it/s]Batch 100, Loss: 1.7759\n",
      " 22%|██▏       | 201/907 [02:45<08:59,  1.31it/s]Batch 200, Loss: 1.4126\n",
      " 33%|███▎      | 301/907 [04:03<08:11,  1.23it/s]Batch 300, Loss: 1.1503\n",
      " 44%|████▍     | 401/907 [05:20<06:46,  1.24it/s]Batch 400, Loss: 1.6379\n",
      " 55%|█████▌    | 501/907 [06:36<05:36,  1.21it/s]Batch 500, Loss: 1.5074\n",
      " 66%|██████▋   | 601/907 [07:49<03:35,  1.42it/s]Batch 600, Loss: 1.2584\n",
      " 77%|███████▋  | 701/907 [09:04<02:24,  1.43it/s]Batch 700, Loss: 1.7834\n",
      " 88%|████████▊ | 801/907 [10:16<01:11,  1.48it/s]Batch 800, Loss: 1.9160\n",
      " 99%|█████████▉| 901/907 [11:31<00:04,  1.38it/s]Batch 900, Loss: 1.6756\n",
      "100%|██████████| 907/907 [11:35<00:00,  1.30it/s]\n",
      "Epoch: 8, Train Loss: 1.5163\n",
      "Evaluation: 100%|██████████| 32/32 [00:06<00:00,  4.59it/s]\n",
      "Validation Loss: 1.4751\n",
      "BLEU Score: 0.1013\n",
      "Best Validation Loss: 1.4751, Best BLEU Score: 0.1013\n",
      "\n",
      "  0%|          | 1/907 [00:00<13:51,  1.09it/s]Batch 0, Loss: 1.1070\n",
      " 11%|█         | 101/907 [01:06<08:20,  1.61it/s]Batch 100, Loss: 1.5677\n",
      " 22%|██▏       | 201/907 [02:08<07:29,  1.57it/s]Batch 200, Loss: 1.3492\n",
      " 33%|███▎      | 301/907 [03:11<06:26,  1.57it/s]Batch 300, Loss: 1.4889\n",
      " 44%|████▍     | 401/907 [04:12<04:48,  1.75it/s]Batch 400, Loss: 1.3712\n",
      " 55%|█████▌    | 501/907 [05:09<04:07,  1.64it/s]Batch 500, Loss: 1.1194\n",
      " 66%|██████▋   | 601/907 [06:14<02:59,  1.70it/s]Batch 600, Loss: 1.3270\n",
      " 77%|███████▋  | 701/907 [07:13<01:55,  1.78it/s]Batch 700, Loss: 1.4504\n",
      " 88%|████████▊ | 801/907 [08:13<00:57,  1.84it/s]Batch 800, Loss: 1.5749\n",
      " 99%|█████████▉| 901/907 [09:13<00:03,  1.88it/s]Batch 900, Loss: 1.5909\n",
      "100%|██████████| 907/907 [09:17<00:00,  1.63it/s]\n",
      "Epoch: 9, Train Loss: 1.5208\n",
      "Evaluation: 100%|██████████| 32/32 [00:05<00:00,  5.78it/s]\n",
      "Validation Loss: 1.4697\n",
      "BLEU Score: 0.1023\n",
      "Best Validation Loss: 1.4697, Best BLEU Score: 0.1023\n",
      "\n",
      "  0%|          | 1/907 [00:00<09:22,  1.61it/s]Batch 0, Loss: 1.5204\n",
      " 11%|█         | 101/907 [01:05<08:03,  1.67it/s]Batch 100, Loss: 1.2692\n",
      " 22%|██▏       | 201/907 [02:09<07:24,  1.59it/s]Batch 200, Loss: 1.2551\n",
      " 33%|███▎      | 301/907 [03:13<06:14,  1.62it/s]Batch 300, Loss: 1.6617\n",
      " 44%|████▍     | 401/907 [04:14<04:53,  1.73it/s]Batch 400, Loss: 1.7563\n",
      " 55%|█████▌    | 501/907 [05:13<04:10,  1.62it/s]Batch 500, Loss: 1.5134\n",
      " 66%|██████▋   | 601/907 [06:11<03:03,  1.67it/s]Batch 600, Loss: 1.7329\n",
      " 77%|███████▋  | 701/907 [07:10<01:52,  1.82it/s]Batch 700, Loss: 1.5557\n",
      " 88%|████████▊ | 801/907 [08:09<01:00,  1.74it/s]Batch 800, Loss: 1.2158\n",
      " 99%|█████████▉| 901/907 [09:10<00:03,  1.57it/s]Batch 900, Loss: 1.5476\n",
      "100%|██████████| 907/907 [09:13<00:00,  1.64it/s]\n",
      "Epoch: 10, Train Loss: 1.5125\n",
      "Evaluation: 100%|██████████| 32/32 [00:05<00:00,  5.84it/s]\n",
      "Validation Loss: 1.4643\n",
      "BLEU Score: 0.1029\n",
      "Best Validation Loss: 1.4643, Best BLEU Score: 0.1029\n",
      "\n",
      "  0%|          | 1/907 [00:00<10:55,  1.38it/s]Batch 0, Loss: 1.5573\n",
      " 11%|█         | 101/907 [01:03<08:11,  1.64it/s]Batch 100, Loss: 1.7253\n",
      " 22%|██▏       | 201/907 [02:07<06:51,  1.71it/s]Batch 200, Loss: 1.8455\n",
      " 33%|███▎      | 301/907 [03:13<05:58,  1.69it/s]Batch 300, Loss: 1.6091\n",
      " 44%|████▍     | 401/907 [04:14<04:34,  1.84it/s]Batch 400, Loss: 1.7443\n",
      " 55%|█████▌    | 501/907 [05:12<03:58,  1.70it/s]Batch 500, Loss: 1.5571\n",
      " 66%|██████▋   | 601/907 [06:10<02:53,  1.77it/s]Batch 600, Loss: 1.5754\n",
      " 77%|███████▋  | 701/907 [07:10<02:16,  1.51it/s]Batch 700, Loss: 0.9255\n",
      " 88%|████████▊ | 801/907 [08:11<00:57,  1.84it/s]Batch 800, Loss: 1.4790\n",
      " 99%|█████████▉| 901/907 [09:11<00:03,  1.67it/s]Batch 900, Loss: 1.6061\n",
      "100%|██████████| 907/907 [09:15<00:00,  1.63it/s]\n",
      "Epoch: 11, Train Loss: 1.5042\n",
      "Evaluation: 100%|██████████| 32/32 [00:05<00:00,  5.89it/s]\n",
      "Validation Loss: 1.4576\n",
      "BLEU Score: 0.1037\n",
      "Best Validation Loss: 1.4576, Best BLEU Score: 0.1037\n",
      "\n",
      "  0%|          | 1/907 [00:00<09:38,  1.57it/s]Batch 0, Loss: 1.7401\n",
      " 11%|█         | 101/907 [01:04<10:00,  1.34it/s]Batch 100, Loss: 1.1896\n",
      " 22%|██▏       | 201/907 [02:17<06:35,  1.78it/s]Batch 200, Loss: 1.5250\n",
      " 33%|███▎      | 301/907 [03:16<05:58,  1.69it/s]Batch 300, Loss: 1.2016\n",
      " 44%|████▍     | 401/907 [04:20<06:21,  1.33it/s]Batch 400, Loss: 1.1837\n",
      " 55%|█████▌    | 501/907 [05:49<04:39,  1.45it/s]Batch 500, Loss: 1.5768\n",
      " 66%|██████▋   | 601/907 [06:56<03:06,  1.64it/s]Batch 600, Loss: 1.5048\n",
      " 77%|███████▋  | 701/907 [08:00<02:12,  1.55it/s]Batch 700, Loss: 1.3378\n",
      " 88%|████████▊ | 801/907 [09:03<01:04,  1.64it/s]Batch 800, Loss: 1.7006\n",
      " 99%|█████████▉| 901/907 [10:09<00:04,  1.33it/s]Batch 900, Loss: 1.6724\n",
      "100%|██████████| 907/907 [10:12<00:00,  1.48it/s]\n",
      "Epoch: 12, Train Loss: 1.4982\n",
      "Evaluation: 100%|██████████| 32/32 [00:05<00:00,  5.74it/s]\n",
      "Validation Loss: 1.4517\n",
      "BLEU Score: 0.1052\n",
      "Best Validation Loss: 1.4517, Best BLEU Score: 0.1052\n",
      "\n",
      "  0%|          | 1/907 [00:00<09:42,  1.56it/s]Batch 0, Loss: 1.5314\n",
      " 11%|█         | 101/907 [01:08<08:27,  1.59it/s]Batch 100, Loss: 1.5740\n",
      " 22%|██▏       | 201/907 [02:20<10:13,  1.15it/s]Batch 200, Loss: 1.3942\n",
      " 33%|███▎      | 301/907 [03:28<06:38,  1.52it/s]Batch 300, Loss: 1.2084\n",
      " 44%|████▍     | 401/907 [04:31<05:13,  1.61it/s]Batch 400, Loss: 1.5176\n",
      " 55%|█████▌    | 501/907 [05:39<04:08,  1.64it/s]Batch 500, Loss: 1.6108\n",
      " 66%|██████▋   | 601/907 [06:45<02:58,  1.72it/s]Batch 600, Loss: 1.4560\n",
      " 77%|███████▋  | 701/907 [08:35<02:21,  1.46it/s]  Batch 700, Loss: 1.6911\n",
      " 88%|████████▊ | 801/907 [09:36<00:56,  1.88it/s]Batch 800, Loss: 1.7494\n",
      " 99%|█████████▉| 901/907 [26:06<00:03,  1.73it/s]   Batch 900, Loss: 1.6552\n",
      "100%|██████████| 907/907 [26:09<00:00,  1.73s/it]\n",
      "Epoch: 13, Train Loss: 1.4918\n",
      "Evaluation: 100%|██████████| 32/32 [00:05<00:00,  6.02it/s]\n",
      "Validation Loss: 1.4448\n",
      "BLEU Score: 0.1056\n",
      "Best Validation Loss: 1.4448, Best BLEU Score: 0.1056\n",
      "\n",
      "  0%|          | 1/907 [00:00<13:19,  1.13it/s]Batch 0, Loss: 1.6021\n",
      " 11%|█         | 101/907 [01:14<09:35,  1.40it/s]Batch 100, Loss: 1.8006\n",
      " 22%|██▏       | 201/907 [02:40<09:48,  1.20it/s]Batch 200, Loss: 1.7335\n",
      " 33%|███▎      | 301/907 [04:14<11:08,  1.10s/it]Batch 300, Loss: 1.5942\n",
      " 44%|████▍     | 401/907 [05:49<06:22,  1.32it/s]Batch 400, Loss: 1.8464\n",
      " 55%|█████▌    | 501/907 [07:08<05:12,  1.30it/s]Batch 500, Loss: 1.4326\n",
      " 66%|██████▋   | 601/907 [08:26<04:20,  1.18it/s]Batch 600, Loss: 1.2828\n",
      " 77%|███████▋  | 701/907 [09:50<02:43,  1.26it/s]Batch 700, Loss: 1.7566\n",
      " 88%|████████▊ | 801/907 [11:10<01:27,  1.21it/s]Batch 800, Loss: 1.3804\n",
      " 99%|█████████▉| 901/907 [12:30<00:04,  1.24it/s]Batch 900, Loss: 1.5806\n",
      "100%|██████████| 907/907 [12:34<00:00,  1.20it/s]\n",
      "Epoch: 14, Train Loss: 1.4847\n",
      "Evaluation: 100%|██████████| 32/32 [00:08<00:00,  3.95it/s]\n",
      "Validation Loss: 1.4364\n",
      "BLEU Score: 0.1070\n",
      "Best Validation Loss: 1.4364, Best BLEU Score: 0.1070\n",
      "\n",
      "  0%|          | 1/907 [00:00<15:05,  1.00it/s]Batch 0, Loss: 1.1305\n",
      " 11%|█         | 101/907 [01:30<12:25,  1.08it/s]Batch 100, Loss: 1.3466\n",
      " 22%|██▏       | 201/907 [03:15<12:06,  1.03s/it]Batch 200, Loss: 1.1916\n",
      " 33%|███▎      | 301/907 [04:50<07:58,  1.27it/s]Batch 300, Loss: 1.7541\n",
      " 44%|████▍     | 401/907 [06:16<07:02,  1.20it/s]Batch 400, Loss: 1.3375\n",
      " 55%|█████▌    | 501/907 [07:38<05:26,  1.24it/s]Batch 500, Loss: 1.5011\n",
      " 66%|██████▋   | 601/907 [09:01<04:17,  1.19it/s]Batch 600, Loss: 1.4123\n",
      " 77%|███████▋  | 701/907 [10:32<03:12,  1.07it/s]Batch 700, Loss: 1.3755\n",
      " 88%|████████▊ | 801/907 [12:04<01:44,  1.02it/s]Batch 800, Loss: 1.7039\n",
      " 99%|█████████▉| 901/907 [13:29<00:05,  1.13it/s]Batch 900, Loss: 1.2571\n",
      "100%|██████████| 907/907 [13:33<00:00,  1.11it/s]\n",
      "Epoch: 15, Train Loss: 1.4710\n",
      "Evaluation: 100%|██████████| 32/32 [00:08<00:00,  3.83it/s]\n",
      "Validation Loss: 1.4297\n",
      "BLEU Score: 0.1085\n",
      "Best Validation Loss: 1.4297, Best BLEU Score: 0.1085\n",
      "\n",
      "  0%|          | 1/907 [00:00<11:09,  1.35it/s]Batch 0, Loss: 1.5367\n",
      " 11%|█         | 101/907 [01:29<12:08,  1.11it/s]Batch 100, Loss: 1.4211\n",
      " 22%|██▏       | 201/907 [02:50<06:18,  1.87it/s]Batch 200, Loss: 1.8671\n",
      " 33%|███▎      | 301/907 [03:46<05:44,  1.76it/s]Batch 300, Loss: 1.7707\n",
      " 44%|████▍     | 401/907 [04:43<04:27,  1.89it/s]Batch 400, Loss: 1.6838\n",
      " 55%|█████▌    | 501/907 [05:40<03:53,  1.74it/s]Batch 500, Loss: 1.3062\n",
      " 66%|██████▋   | 601/907 [06:37<02:59,  1.70it/s]Batch 600, Loss: 1.2653\n",
      " 77%|███████▋  | 701/907 [07:33<01:45,  1.96it/s]Batch 700, Loss: 1.4127\n",
      " 88%|████████▊ | 801/907 [08:29<00:59,  1.78it/s]Batch 800, Loss: 1.5753\n",
      " 99%|█████████▉| 901/907 [09:24<00:03,  1.78it/s]Batch 900, Loss: 1.2665\n",
      "100%|██████████| 907/907 [09:27<00:00,  1.60it/s]\n",
      "Epoch: 16, Train Loss: 1.4654\n",
      "Evaluation: 100%|██████████| 32/32 [00:05<00:00,  5.81it/s]\n",
      "Validation Loss: 1.4220\n",
      "BLEU Score: 0.1084\n",
      "Best Validation Loss: 1.4220, Best BLEU Score: 0.1084\n",
      "\n",
      "  0%|          | 1/907 [00:00<09:59,  1.51it/s]Batch 0, Loss: 1.3597\n",
      " 11%|█         | 101/907 [03:07<50:24,  3.75s/it]  Batch 100, Loss: 1.5149\n",
      " 22%|██▏       | 201/907 [04:24<10:36,  1.11it/s]Batch 200, Loss: 1.0931\n",
      " 33%|███▎      | 301/907 [06:21<08:10,  1.24it/s]  Batch 300, Loss: 1.4561\n",
      " 44%|████▍     | 401/907 [22:52<05:40,  1.49it/s]    Batch 400, Loss: 1.2556\n",
      " 55%|█████▌    | 501/907 [24:04<04:27,  1.52it/s]Batch 500, Loss: 1.1047\n",
      " 66%|██████▋   | 601/907 [25:09<03:31,  1.45it/s]Batch 600, Loss: 1.9753\n",
      " 77%|███████▋  | 701/907 [26:16<02:09,  1.60it/s]Batch 700, Loss: 1.7295\n",
      " 88%|████████▊ | 801/907 [27:22<01:14,  1.42it/s]Batch 800, Loss: 1.3196\n",
      " 99%|█████████▉| 901/907 [28:32<00:04,  1.40it/s]Batch 900, Loss: 1.4999\n",
      "100%|██████████| 907/907 [28:36<00:00,  1.89s/it]\n",
      "Epoch: 17, Train Loss: 1.4584\n",
      "Evaluation: 100%|██████████| 32/32 [00:06<00:00,  4.62it/s]\n",
      "Validation Loss: 1.4143\n",
      "BLEU Score: 0.1092\n",
      "Best Validation Loss: 1.4143, Best BLEU Score: 0.1092\n",
      "\n",
      "  0%|          | 1/907 [00:00<10:58,  1.37it/s]Batch 0, Loss: 1.3865\n",
      " 11%|█         | 101/907 [01:14<09:31,  1.41it/s]Batch 100, Loss: 1.3310\n",
      " 22%|██▏       | 201/907 [02:30<08:40,  1.36it/s]Batch 200, Loss: 1.6928\n",
      " 33%|███▎      | 301/907 [03:45<05:57,  1.69it/s]Batch 300, Loss: 1.4824\n",
      " 44%|████▍     | 401/907 [04:52<05:36,  1.51it/s]Batch 400, Loss: 1.4051\n",
      " 55%|█████▌    | 501/907 [06:01<03:51,  1.75it/s]Batch 500, Loss: 1.4121\n",
      " 66%|██████▋   | 601/907 [07:01<02:54,  1.75it/s]Batch 600, Loss: 1.3581\n",
      " 77%|███████▋  | 701/907 [08:05<02:09,  1.59it/s]Batch 700, Loss: 1.2740\n",
      " 88%|████████▊ | 801/907 [09:10<01:04,  1.65it/s]Batch 800, Loss: 1.7384\n",
      " 99%|█████████▉| 901/907 [10:12<00:03,  1.70it/s]Batch 900, Loss: 1.7764\n",
      "100%|██████████| 907/907 [10:16<00:00,  1.47it/s]\n",
      "Epoch: 18, Train Loss: 1.4443\n",
      "Evaluation: 100%|██████████| 32/32 [00:05<00:00,  5.57it/s]\n",
      "Validation Loss: 1.4060\n",
      "BLEU Score: 0.1107\n",
      "Best Validation Loss: 1.4060, Best BLEU Score: 0.1107\n",
      "\n",
      "  0%|          | 1/907 [00:00<09:28,  1.59it/s]Batch 0, Loss: 1.8276\n",
      " 11%|█         | 101/907 [01:05<08:24,  1.60it/s]Batch 100, Loss: 1.7779\n",
      " 22%|██▏       | 201/907 [02:13<08:08,  1.44it/s]Batch 200, Loss: 1.2879\n",
      " 33%|███▎      | 301/907 [03:24<06:39,  1.52it/s]Batch 300, Loss: 1.5213\n",
      " 44%|████▍     | 401/907 [04:33<05:57,  1.42it/s]Batch 400, Loss: 1.4090\n",
      " 55%|█████▌    | 501/907 [05:44<04:38,  1.46it/s]Batch 500, Loss: 1.3902\n",
      " 66%|██████▋   | 601/907 [06:54<03:30,  1.45it/s]Batch 600, Loss: 1.3780\n",
      " 77%|███████▋  | 701/907 [08:07<02:46,  1.24it/s]Batch 700, Loss: 1.6497\n",
      " 88%|████████▊ | 801/907 [09:21<01:13,  1.45it/s]Batch 800, Loss: 1.2954\n",
      " 99%|█████████▉| 901/907 [10:35<00:04,  1.41it/s]Batch 900, Loss: 1.5826\n",
      "100%|██████████| 907/907 [10:39<00:00,  1.42it/s]\n",
      "Epoch: 19, Train Loss: 1.4360\n",
      "Evaluation: 100%|██████████| 32/32 [00:07<00:00,  4.47it/s]\n",
      "Validation Loss: 1.4002\n",
      "BLEU Score: 0.1118\n",
      "Best Validation Loss: 1.4002, Best BLEU Score: 0.1118\n",
      "\n",
      "  0%|          | 1/907 [00:00<12:03,  1.25it/s]Batch 0, Loss: 1.3173\n",
      " 11%|█         | 101/907 [01:24<11:23,  1.18it/s]Batch 100, Loss: 1.1232\n",
      " 22%|██▏       | 201/907 [02:51<09:53,  1.19it/s]Batch 200, Loss: 1.4249\n",
      " 33%|███▎      | 301/907 [04:15<08:18,  1.22it/s]Batch 300, Loss: 1.3419\n",
      " 44%|████▍     | 401/907 [05:36<06:31,  1.29it/s]Batch 400, Loss: 1.3689\n",
      " 55%|█████▌    | 501/907 [06:55<05:14,  1.29it/s]Batch 500, Loss: 1.5212\n",
      " 66%|██████▋   | 601/907 [08:15<03:56,  1.29it/s]Batch 600, Loss: 1.5132\n",
      " 77%|███████▋  | 701/907 [09:36<03:03,  1.12it/s]Batch 700, Loss: 1.0694\n",
      " 88%|████████▊ | 801/907 [10:58<01:21,  1.30it/s]Batch 800, Loss: 1.3635\n",
      " 99%|█████████▉| 901/907 [12:24<00:05,  1.11it/s]Batch 900, Loss: 1.1337\n",
      "100%|██████████| 907/907 [12:29<00:00,  1.21it/s]\n",
      "Epoch: 20, Train Loss: 1.4252\n",
      "Evaluation: 100%|██████████| 32/32 [00:08<00:00,  3.83it/s]\n",
      "Validation Loss: 1.3895\n",
      "BLEU Score: 0.1137\n",
      "Best Validation Loss: 1.3895, Best BLEU Score: 0.1137\n",
      "\n",
      "\n"
     ]
    }
   ],
   "source": [
    "#load text file\n",
    "def load_text(filename):\n",
    "    file = open(filename, mode\n",
    "                ='rt', encoding='utf-8')\n",
    "    text = file.read()\n",
    "    file.close()\n",
    "\n",
    "    return text\n",
    "\n",
    "text = load_text('text.txt')\n",
    "\n",
    "# print 1 sentence\n",
    "print(text)"
   ]
  },
  {
   "cell_type": "code",
   "execution_count": 8,
   "metadata": {},
   "outputs": [
    {
     "name": "stdout",
     "output_type": "stream",
     "text": [
      "Final Metrics (Epoch 20):\n",
      "Training Loss: 1.4252\n",
      "Validation Loss: 1.3895\n",
      "BLEU Score: 0.1137\n",
      "\n",
      "Improvements:\n",
      "Training Loss decreased by: 0.5354\n",
      "BLEU Score increased by: 0.0206\n"
     ]
    },
    {
     "data": {
      "image/png": "[encoded data removed]",
      "text/plain": [
       "<Figure size 1200x1000 with 2 Axes>"
      ]
     },
     "metadata": {},
     "output_type": "display_data"
    }
   ],
   "source": [
    "import re\n",
    "import matplotlib.pyplot as plt\n",
    "import numpy as np\n",
    "\n",
    "def extract_metrics_from_log(log_text):\n",
    "    \"\"\"Extract metrics from training log text\"\"\"\n",
    "    # Initialize lists to store metrics\n",
    "    train_losses = []\n",
    "    val_losses = []\n",
    "    bleu_scores = []\n",
    "    epochs = []\n",
    "    \n",
    "    # Regular expressions to match metrics\n",
    "    epoch_pattern = r\"Epoch: (\\d+), Train Loss: (\\d+\\.\\d+)\"\n",
    "    val_pattern = r\"Best Validation Loss: (\\d+\\.\\d+)\"\n",
    "    bleu_pattern = r\"Best BLEU Score: (\\d+\\.\\d+)\"\n",
    "    \n",
    "    # Split log into lines\n",
    "    lines = log_text.split('\\n')\n",
    "    \n",
    "    current_epoch = None\n",
    "    for line in lines:\n",
    "        # Extract epoch and training loss\n",
    "        epoch_match = re.search(epoch_pattern, line)\n",
    "        if epoch_match:\n",
    "            current_epoch = int(epoch_match.group(1))\n",
    "            epochs.append(current_epoch)\n",
    "            train_losses.append(float(epoch_match.group(2)))\n",
    "        \n",
    "        # Extract validation loss\n",
    "        val_match = re.search(val_pattern, line)\n",
    "        if val_match:\n",
    "            val_losses.append(float(val_match.group(1)))\n",
    "            \n",
    "        # Extract BLEU score\n",
    "        bleu_match = re.search(bleu_pattern, line)\n",
    "        if bleu_match:\n",
    "            bleu_scores.append(float(bleu_match.group(1)))\n",
    "    \n",
    "    return epochs, train_losses, val_losses, bleu_scores\n",
    "\n",
    "def plot_training_metrics(log_text):\n",
    "    \"\"\"Plot training metrics\"\"\"\n",
    "    # Extract metrics\n",
    "    epochs, train_losses, val_losses, bleu_scores = extract_metrics_from_log(log_text)\n",
    "    \n",
    "    # Create figure with two subplots\n",
    "    fig, (ax1, ax2) = plt.subplots(2, 1, figsize=(12, 10))\n",
    "    # delete all duplicates in val_losses \n",
    "    #val_losses = list(dict.fromkeys(val_losses))\n",
    "    # Plot losses\n",
    "    ax1.plot(epochs, train_losses, 'b-', label='Training Loss')\n",
    "    ax1.plot(epochs, val_losses, 'r-', label='Validation Loss')\n",
    "    ax1.set_xlabel('Epoch')\n",
    "    ax1.set_ylabel('Loss')\n",
    "    ax1.set_title('Training and Validation Loss over Epochs')\n",
    "    ax1.legend()\n",
    "    ax1.grid(True)\n",
    "    \n",
    "    # Plot BLEU scores\n",
    "    ax2.plot(epochs, bleu_scores, 'g-', label='BLEU Score')\n",
    "    ax2.set_xlabel('Epoch')\n",
    "    ax2.set_ylabel('BLEU Score')\n",
    "    ax2.set_title('BLEU Score over Epochs')\n",
    "    ax2.legend()\n",
    "    ax2.grid(True)\n",
    "    \n",
    "    # Adjust layout to prevent overlap\n",
    "    plt.tight_layout()\n",
    "    \n",
    "    # Print final metrics\n",
    "    print(f\"Final Metrics (Epoch {epochs[-1]}):\")\n",
    "    print(f\"Training Loss: {train_losses[-1]:.4f}\")\n",
    "    print(f\"Validation Loss: {val_losses[-1]:.4f}\")\n",
    "    print(f\"BLEU Score: {bleu_scores[-1]:.4f}\")\n",
    "    \n",
    "    # Calculate improvements\n",
    "    loss_improvement = train_losses[0] - train_losses[-1]\n",
    "    bleu_improvement = bleu_scores[-1] - bleu_scores[0]\n",
    "    \n",
    "    print(\"\\nImprovements:\")\n",
    "    print(f\"Training Loss decreased by: {loss_improvement:.4f}\")\n",
    "    print(f\"BLEU Score increased by: {bleu_improvement:.4f}\")\n",
    "    \n",
    "    plt.show()\n",
    "\n",
    "# You can call the function with your log text\n",
    "plot_training_metrics(text)"
   ]
  }
 ],
 "metadata": {
  "kernelspec": {
   "display_name": "kaggle",
   "language": "python",
   "name": "python3"
  },
  "language_info": {
   "codemirror_mode": {
    "name": "ipython",
    "version": 3
   },
   "file_extension": ".py",
   "mimetype": "text/x-python",
   "name": "python",
   "nbconvert_exporter": "python",
   "pygments_lexer": "ipython3",
   "version": "3.12.3"
  }
 },
 "nbformat": 4,
 "nbformat_minor": 2
}
